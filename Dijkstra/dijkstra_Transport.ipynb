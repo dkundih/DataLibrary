{
 "cells": [
  {
   "cell_type": "code",
   "execution_count": 12,
   "metadata": {},
   "outputs": [],
   "source": [
    "import vandal"
   ]
  },
  {
   "cell_type": "code",
   "execution_count": 13,
   "metadata": {},
   "outputs": [],
   "source": [
    "tocke = {\n",
    "'a':{'pol' : 1,'j' : 3, 'c' : 2, 'b' : 6},\n",
    "'b':{'pol' : 5,'d' : 6, 'a' : 6},\n",
    "'c':{'a' : 2, 'odr' : float('inf'), 'g' : 4, 'e' : 5, 'f': float('inf')},\n",
    "'d':{'b' : 6, 'e' : 3},\n",
    "'e':{'c' : float('inf'), 'd' : 3, 'f' : 4},\n",
    "'f':{'odr' : 3, 'e' : 4, 'i' : 9, 'c' : 4},\n",
    "'g':{'j' : 3, 'h' : 8, 'c' : 4}, \n",
    "'h':{'i' : 5, 'g' : 8}, \n",
    "'i':{'h' : 5, 'f' : 9}, \n",
    "'j':{'a' : 3, 'g' : 3}, \n",
    "'pol':{'a' : 1, 'b' : 5}, \n",
    "'odr':{'c' : 1, 'f': float('inf')},\n",
    "}"
   ]
  },
  {
   "cell_type": "code",
   "execution_count": 14,
   "metadata": {},
   "outputs": [
    {
     "data": {
      "text/plain": [
       "{'a': {'pol': 1, 'j': 3, 'c': 2, 'b': 6},\n",
       " 'b': {'pol': 5, 'd': 6, 'a': 6},\n",
       " 'c': {'a': 2, 'odr': inf, 'g': 4, 'e': 5, 'f': inf},\n",
       " 'd': {'b': 6, 'e': 3},\n",
       " 'e': {'c': inf, 'd': 3, 'f': 4},\n",
       " 'f': {'odr': 3, 'e': 4, 'i': 9, 'c': 4},\n",
       " 'g': {'j': 3, 'h': 8, 'c': 4},\n",
       " 'h': {'i': 5, 'g': 8},\n",
       " 'i': {'h': 5, 'f': 9},\n",
       " 'j': {'a': 3, 'g': 3},\n",
       " 'pol': {'a': 1, 'b': 5},\n",
       " 'odr': {'c': 1, 'f': inf}}"
      ]
     },
     "execution_count": 14,
     "metadata": {},
     "output_type": "execute_result"
    }
   ],
   "source": [
    "tocke"
   ]
  },
  {
   "cell_type": "code",
   "execution_count": 15,
   "metadata": {},
   "outputs": [],
   "source": [
    "Dijkstra = vandal.Dijkstra(tocke, 'pol', 'odr')"
   ]
  },
  {
   "cell_type": "code",
   "execution_count": 16,
   "metadata": {},
   "outputs": [
    {
     "name": "stdout",
     "output_type": "stream",
     "text": [
      "Dijkstra has been set up for for finding the path from pol => odr.\n"
     ]
    },
    {
     "data": {
      "text/html": [
       "<div>\n",
       "<style scoped>\n",
       "    .dataframe tbody tr th:only-of-type {\n",
       "        vertical-align: middle;\n",
       "    }\n",
       "\n",
       "    .dataframe tbody tr th {\n",
       "        vertical-align: top;\n",
       "    }\n",
       "\n",
       "    .dataframe thead th {\n",
       "        text-align: right;\n",
       "    }\n",
       "</style>\n",
       "<table border=\"1\" class=\"dataframe\">\n",
       "  <thead>\n",
       "    <tr style=\"text-align: right;\">\n",
       "      <th></th>\n",
       "      <th>Output</th>\n",
       "    </tr>\n",
       "  </thead>\n",
       "  <tbody>\n",
       "    <tr>\n",
       "      <th>Optimal path</th>\n",
       "      <td>[pol, a, c, e, f, odr]</td>\n",
       "    </tr>\n",
       "    <tr>\n",
       "      <th>Minimal distance</th>\n",
       "      <td>15</td>\n",
       "    </tr>\n",
       "  </tbody>\n",
       "</table>\n",
       "</div>"
      ],
      "text/plain": [
       "                                  Output\n",
       "Optimal path      [pol, a, c, e, f, odr]\n",
       "Minimal distance                      15"
      ]
     },
     "execution_count": 16,
     "metadata": {},
     "output_type": "execute_result"
    }
   ],
   "source": [
    "Dijkstra.execute(filtered = False)"
   ]
  },
  {
   "cell_type": "code",
   "execution_count": 17,
   "metadata": {},
   "outputs": [
    {
     "name": "stdout",
     "output_type": "stream",
     "text": [
      "Help on class Dijkstra in module vandal.objects.dijkstra:\n",
      "\n",
      "class Dijkstra(builtins.object)\n",
      " |  Dijkstra(nodes: dict = None, origin: str = None, destination: str = None) -> object\n",
      " |  \n",
      " |  (OBJECT INFO)\n",
      " |  -------------\n",
      " |  \n",
      " |  eg. Dijkstra = vandal.Dijkstra()\n",
      " |  \n",
      " |  vandal.Dijkstra - main class that contains contains the data of defined nodes, origin and the desired destination.\n",
      " |      * takes 3 additional arguments.\n",
      " |          nodes - dictionary of dictionaries of nodes with their corelating weights.\n",
      " |  \n",
      " |          eg.\n",
      " |          nodes = {\n",
      " |          'a':{'b':8,'c':5},\n",
      " |          'b':{'c':2,'d':4},\n",
      " |          'c':{'b':5,'d':4,'e':3},\n",
      " |          'd':{'e':5},\n",
      " |          'e':{'d':6},\n",
      " |          }\n",
      " |  \n",
      " |          origin - origin node as a starting point.\n",
      " |          destination - destination node of the desired route.\n",
      " |  \n",
      " |  (OBJECT FUNCTIONS)\n",
      " |  ------------------\n",
      " |  \n",
      " |  eg. vandal.Dijkstra.function()\n",
      " |  \n",
      " |      .execute() - executes the Dijkstra algorithm on top of the defined data.\n",
      " |          * takes 1 additional argument.\n",
      " |              filtered (default: filtered = True) - filters the print option and leaves just the return object.\n",
      " |  \n",
      " |  Methods defined here:\n",
      " |  \n",
      " |  __init__(self, nodes: dict = None, origin: str = None, destination: str = None) -> object\n",
      " |      Initialize self.  See help(type(self)) for accurate signature.\n",
      " |  \n",
      " |  __repr__(self) -> str\n",
      " |      Return repr(self).\n",
      " |  \n",
      " |  __str__(self) -> str\n",
      " |      Return str(self).\n",
      " |  \n",
      " |  execute(self, filtered: bool = True) -> dict\n",
      " |      # executes a Dijkstra algorithm route scan on a defined path.\n",
      " |  \n",
      " |  ----------------------------------------------------------------------\n",
      " |  Data descriptors defined here:\n",
      " |  \n",
      " |  __dict__\n",
      " |      dictionary for instance variables (if defined)\n",
      " |  \n",
      " |  __weakref__\n",
      " |      list of weak references to the object (if defined)\n",
      " |  \n",
      " |  ----------------------------------------------------------------------\n",
      " |  Data and other attributes defined here:\n",
      " |  \n",
      " |  __APPversion__ = 'v 1.4.1'\n",
      " |  \n",
      " |  __contact__ = 'dakundih@unin.hr | kundihdavid@gmail.com'\n",
      " |  \n",
      " |  __copyright__ = 'Copyright © 2021-2022 David Kundih'\n",
      " |  \n",
      " |  __documentation__ = 'https://github.com/dkundih/vandal | https://pypi....\n",
      " |  \n",
      " |  __donate__ = 'https://patreon.com/dkundih | https://buymeacoffee.com/d...\n",
      " |  \n",
      " |  __license__ = 'Copyright © 2021-2022 David Kundih. All rights r...kund...\n",
      "\n"
     ]
    }
   ],
   "source": [
    "help(vandal.Dijkstra)"
   ]
  }
 ],
 "metadata": {
  "interpreter": {
   "hash": "0121418e29cf86199bef919fa1f5c437be8974b406c12a994b7ab7e7bcf855f7"
  },
  "kernelspec": {
   "display_name": "Python 3.9.2 64-bit",
   "name": "python3"
  },
  "language_info": {
   "codemirror_mode": {
    "name": "ipython",
    "version": 3
   },
   "file_extension": ".py",
   "mimetype": "text/x-python",
   "name": "python",
   "nbconvert_exporter": "python",
   "pygments_lexer": "ipython3",
   "version": "3.9.2"
  },
  "orig_nbformat": 4
 },
 "nbformat": 4,
 "nbformat_minor": 2
}
