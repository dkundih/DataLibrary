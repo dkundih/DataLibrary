{
 "cells": [
  {
   "cell_type": "code",
   "execution_count": 1,
   "source": [
    "import numpy as np\r\n",
    "import pandas as pd\r\n",
    "import seaborn as sns\r\n",
    "import matplotlib.pyplot as plt\r\n",
    "from sklearn.linear_model import LinearRegression\r\n",
    "from sklearn.model_selection import train_test_split"
   ],
   "outputs": [],
   "metadata": {}
  },
  {
   "cell_type": "code",
   "execution_count": 2,
   "source": [
    "%matplotlib inline"
   ],
   "outputs": [],
   "metadata": {}
  },
  {
   "cell_type": "code",
   "execution_count": 3,
   "source": [
    "podaci = pd.read_csv(r'C:\\Users\\kundi\\Moji_radovi\\import_data\\OLS_DataFrame.csv')"
   ],
   "outputs": [],
   "metadata": {}
  },
  {
   "cell_type": "code",
   "execution_count": 4,
   "source": [
    "podaci.rename(columns={'Weight (Kilograms)' : 'Masa_tereta'}, inplace = True)"
   ],
   "outputs": [],
   "metadata": {}
  },
  {
   "cell_type": "code",
   "execution_count": 5,
   "source": [
    "podaci.rename(columns={'Freight Cost (USD)' : 'Cijena_transporta'}, inplace = True)"
   ],
   "outputs": [],
   "metadata": {}
  },
  {
   "cell_type": "code",
   "execution_count": 6,
   "source": [
    "podaci.rename(columns={'Pack Price' : 'Cijena_paketa'}, inplace = True)"
   ],
   "outputs": [],
   "metadata": {}
  },
  {
   "cell_type": "code",
   "execution_count": 7,
   "source": [
    "podaci"
   ],
   "outputs": [
    {
     "output_type": "execute_result",
     "data": {
      "text/plain": [
       "             Country Managed By Shipment Mode  \\\n",
       "0      C�te d'Ivoire   PMO - US           Air   \n",
       "1            Vietnam   PMO - US           Air   \n",
       "2      C�te d'Ivoire   PMO - US           Air   \n",
       "3            Vietnam   PMO - US           Air   \n",
       "4            Vietnam   PMO - US           Air   \n",
       "...              ...        ...           ...   \n",
       "10319       Zimbabwe   PMO - US         Truck   \n",
       "10320  C�te d'Ivoire   PMO - US         Truck   \n",
       "10321         Zambia   PMO - US         Truck   \n",
       "10322       Zimbabwe   PMO - US         Truck   \n",
       "10323       Zimbabwe   PMO - US         Truck   \n",
       "\n",
       "                                                  Vendor  \\\n",
       "0                            RANBAXY Fine Chemicals LTD.   \n",
       "1                               Aurobindo Pharma Limited   \n",
       "2                                   Abbott GmbH & Co. KG   \n",
       "3      SUN PHARMACEUTICAL INDUSTRIES LTD (RANBAXY LAB...   \n",
       "4                               Aurobindo Pharma Limited   \n",
       "...                                                  ...   \n",
       "10319                                      SCMS from RDC   \n",
       "10320                                      SCMS from RDC   \n",
       "10321                                      SCMS from RDC   \n",
       "10322                                      SCMS from RDC   \n",
       "10323                                      SCMS from RDC   \n",
       "\n",
       "       Unit of Measure (Per Pack)  Line Item Quantity  Line Item Value  \\\n",
       "0                              30                  19           551.00   \n",
       "1                             240                1000          6200.00   \n",
       "2                             100                 500         40000.00   \n",
       "3                              60               31920        127360.80   \n",
       "4                              60               38000        121600.00   \n",
       "...                           ...                 ...              ...   \n",
       "10319                          60              166571        599655.60   \n",
       "10320                          60               21072        137389.44   \n",
       "10321                          30              514526       5140114.74   \n",
       "10322                          60               17465        113871.80   \n",
       "10323                          60               36639         72911.61   \n",
       "\n",
       "       Cijena_paketa  Unit Price                 Masa_tereta  \\\n",
       "0              29.00        0.97                          13   \n",
       "1               6.20        0.03                         358   \n",
       "2              80.00        0.80                         171   \n",
       "3               3.99        0.07                        1855   \n",
       "4               3.20        0.05                        7590   \n",
       "...              ...         ...                         ...   \n",
       "10319           3.60        0.06     See DN-4307 (ID#:83920)   \n",
       "10320           6.52        0.11     See DN-4313 (ID#:83921)   \n",
       "10321           9.99        0.33  Weight Captured Separately   \n",
       "10322           6.52        0.11                        1392   \n",
       "10323           1.99        0.03  Weight Captured Separately   \n",
       "\n",
       "                        Cijena_transporta  \n",
       "0                                  780.34  \n",
       "1                                  4521.5  \n",
       "2                                 1653.78  \n",
       "3                                16007.06  \n",
       "4                                45450.08  \n",
       "...                                   ...  \n",
       "10319             See DN-4307 (ID#:83920)  \n",
       "10320             See DN-4313 (ID#:83921)  \n",
       "10321  Freight Included in Commodity Cost  \n",
       "10322  Freight Included in Commodity Cost  \n",
       "10323  Freight Included in Commodity Cost  \n",
       "\n",
       "[10324 rows x 11 columns]"
      ],
      "text/html": [
       "<div>\n",
       "<style scoped>\n",
       "    .dataframe tbody tr th:only-of-type {\n",
       "        vertical-align: middle;\n",
       "    }\n",
       "\n",
       "    .dataframe tbody tr th {\n",
       "        vertical-align: top;\n",
       "    }\n",
       "\n",
       "    .dataframe thead th {\n",
       "        text-align: right;\n",
       "    }\n",
       "</style>\n",
       "<table border=\"1\" class=\"dataframe\">\n",
       "  <thead>\n",
       "    <tr style=\"text-align: right;\">\n",
       "      <th></th>\n",
       "      <th>Country</th>\n",
       "      <th>Managed By</th>\n",
       "      <th>Shipment Mode</th>\n",
       "      <th>Vendor</th>\n",
       "      <th>Unit of Measure (Per Pack)</th>\n",
       "      <th>Line Item Quantity</th>\n",
       "      <th>Line Item Value</th>\n",
       "      <th>Cijena_paketa</th>\n",
       "      <th>Unit Price</th>\n",
       "      <th>Masa_tereta</th>\n",
       "      <th>Cijena_transporta</th>\n",
       "    </tr>\n",
       "  </thead>\n",
       "  <tbody>\n",
       "    <tr>\n",
       "      <th>0</th>\n",
       "      <td>C�te d'Ivoire</td>\n",
       "      <td>PMO - US</td>\n",
       "      <td>Air</td>\n",
       "      <td>RANBAXY Fine Chemicals LTD.</td>\n",
       "      <td>30</td>\n",
       "      <td>19</td>\n",
       "      <td>551.00</td>\n",
       "      <td>29.00</td>\n",
       "      <td>0.97</td>\n",
       "      <td>13</td>\n",
       "      <td>780.34</td>\n",
       "    </tr>\n",
       "    <tr>\n",
       "      <th>1</th>\n",
       "      <td>Vietnam</td>\n",
       "      <td>PMO - US</td>\n",
       "      <td>Air</td>\n",
       "      <td>Aurobindo Pharma Limited</td>\n",
       "      <td>240</td>\n",
       "      <td>1000</td>\n",
       "      <td>6200.00</td>\n",
       "      <td>6.20</td>\n",
       "      <td>0.03</td>\n",
       "      <td>358</td>\n",
       "      <td>4521.5</td>\n",
       "    </tr>\n",
       "    <tr>\n",
       "      <th>2</th>\n",
       "      <td>C�te d'Ivoire</td>\n",
       "      <td>PMO - US</td>\n",
       "      <td>Air</td>\n",
       "      <td>Abbott GmbH &amp; Co. KG</td>\n",
       "      <td>100</td>\n",
       "      <td>500</td>\n",
       "      <td>40000.00</td>\n",
       "      <td>80.00</td>\n",
       "      <td>0.80</td>\n",
       "      <td>171</td>\n",
       "      <td>1653.78</td>\n",
       "    </tr>\n",
       "    <tr>\n",
       "      <th>3</th>\n",
       "      <td>Vietnam</td>\n",
       "      <td>PMO - US</td>\n",
       "      <td>Air</td>\n",
       "      <td>SUN PHARMACEUTICAL INDUSTRIES LTD (RANBAXY LAB...</td>\n",
       "      <td>60</td>\n",
       "      <td>31920</td>\n",
       "      <td>127360.80</td>\n",
       "      <td>3.99</td>\n",
       "      <td>0.07</td>\n",
       "      <td>1855</td>\n",
       "      <td>16007.06</td>\n",
       "    </tr>\n",
       "    <tr>\n",
       "      <th>4</th>\n",
       "      <td>Vietnam</td>\n",
       "      <td>PMO - US</td>\n",
       "      <td>Air</td>\n",
       "      <td>Aurobindo Pharma Limited</td>\n",
       "      <td>60</td>\n",
       "      <td>38000</td>\n",
       "      <td>121600.00</td>\n",
       "      <td>3.20</td>\n",
       "      <td>0.05</td>\n",
       "      <td>7590</td>\n",
       "      <td>45450.08</td>\n",
       "    </tr>\n",
       "    <tr>\n",
       "      <th>...</th>\n",
       "      <td>...</td>\n",
       "      <td>...</td>\n",
       "      <td>...</td>\n",
       "      <td>...</td>\n",
       "      <td>...</td>\n",
       "      <td>...</td>\n",
       "      <td>...</td>\n",
       "      <td>...</td>\n",
       "      <td>...</td>\n",
       "      <td>...</td>\n",
       "      <td>...</td>\n",
       "    </tr>\n",
       "    <tr>\n",
       "      <th>10319</th>\n",
       "      <td>Zimbabwe</td>\n",
       "      <td>PMO - US</td>\n",
       "      <td>Truck</td>\n",
       "      <td>SCMS from RDC</td>\n",
       "      <td>60</td>\n",
       "      <td>166571</td>\n",
       "      <td>599655.60</td>\n",
       "      <td>3.60</td>\n",
       "      <td>0.06</td>\n",
       "      <td>See DN-4307 (ID#:83920)</td>\n",
       "      <td>See DN-4307 (ID#:83920)</td>\n",
       "    </tr>\n",
       "    <tr>\n",
       "      <th>10320</th>\n",
       "      <td>C�te d'Ivoire</td>\n",
       "      <td>PMO - US</td>\n",
       "      <td>Truck</td>\n",
       "      <td>SCMS from RDC</td>\n",
       "      <td>60</td>\n",
       "      <td>21072</td>\n",
       "      <td>137389.44</td>\n",
       "      <td>6.52</td>\n",
       "      <td>0.11</td>\n",
       "      <td>See DN-4313 (ID#:83921)</td>\n",
       "      <td>See DN-4313 (ID#:83921)</td>\n",
       "    </tr>\n",
       "    <tr>\n",
       "      <th>10321</th>\n",
       "      <td>Zambia</td>\n",
       "      <td>PMO - US</td>\n",
       "      <td>Truck</td>\n",
       "      <td>SCMS from RDC</td>\n",
       "      <td>30</td>\n",
       "      <td>514526</td>\n",
       "      <td>5140114.74</td>\n",
       "      <td>9.99</td>\n",
       "      <td>0.33</td>\n",
       "      <td>Weight Captured Separately</td>\n",
       "      <td>Freight Included in Commodity Cost</td>\n",
       "    </tr>\n",
       "    <tr>\n",
       "      <th>10322</th>\n",
       "      <td>Zimbabwe</td>\n",
       "      <td>PMO - US</td>\n",
       "      <td>Truck</td>\n",
       "      <td>SCMS from RDC</td>\n",
       "      <td>60</td>\n",
       "      <td>17465</td>\n",
       "      <td>113871.80</td>\n",
       "      <td>6.52</td>\n",
       "      <td>0.11</td>\n",
       "      <td>1392</td>\n",
       "      <td>Freight Included in Commodity Cost</td>\n",
       "    </tr>\n",
       "    <tr>\n",
       "      <th>10323</th>\n",
       "      <td>Zimbabwe</td>\n",
       "      <td>PMO - US</td>\n",
       "      <td>Truck</td>\n",
       "      <td>SCMS from RDC</td>\n",
       "      <td>60</td>\n",
       "      <td>36639</td>\n",
       "      <td>72911.61</td>\n",
       "      <td>1.99</td>\n",
       "      <td>0.03</td>\n",
       "      <td>Weight Captured Separately</td>\n",
       "      <td>Freight Included in Commodity Cost</td>\n",
       "    </tr>\n",
       "  </tbody>\n",
       "</table>\n",
       "<p>10324 rows × 11 columns</p>\n",
       "</div>"
      ]
     },
     "metadata": {},
     "execution_count": 7
    }
   ],
   "metadata": {}
  },
  {
   "cell_type": "code",
   "execution_count": 8,
   "source": [
    "podaci.drop(columns=['Vendor', 'Unit of Measure (Per Pack)', 'Line Item Quantity', 'Line Item Value', 'Unit Price'], inplace = True)"
   ],
   "outputs": [],
   "metadata": {}
  },
  {
   "cell_type": "code",
   "execution_count": 9,
   "source": [
    "podaci"
   ],
   "outputs": [
    {
     "output_type": "execute_result",
     "data": {
      "text/plain": [
       "             Country Managed By Shipment Mode  Cijena_paketa  \\\n",
       "0      C�te d'Ivoire   PMO - US           Air          29.00   \n",
       "1            Vietnam   PMO - US           Air           6.20   \n",
       "2      C�te d'Ivoire   PMO - US           Air          80.00   \n",
       "3            Vietnam   PMO - US           Air           3.99   \n",
       "4            Vietnam   PMO - US           Air           3.20   \n",
       "...              ...        ...           ...            ...   \n",
       "10319       Zimbabwe   PMO - US         Truck           3.60   \n",
       "10320  C�te d'Ivoire   PMO - US         Truck           6.52   \n",
       "10321         Zambia   PMO - US         Truck           9.99   \n",
       "10322       Zimbabwe   PMO - US         Truck           6.52   \n",
       "10323       Zimbabwe   PMO - US         Truck           1.99   \n",
       "\n",
       "                      Masa_tereta                   Cijena_transporta  \n",
       "0                              13                              780.34  \n",
       "1                             358                              4521.5  \n",
       "2                             171                             1653.78  \n",
       "3                            1855                            16007.06  \n",
       "4                            7590                            45450.08  \n",
       "...                           ...                                 ...  \n",
       "10319     See DN-4307 (ID#:83920)             See DN-4307 (ID#:83920)  \n",
       "10320     See DN-4313 (ID#:83921)             See DN-4313 (ID#:83921)  \n",
       "10321  Weight Captured Separately  Freight Included in Commodity Cost  \n",
       "10322                        1392  Freight Included in Commodity Cost  \n",
       "10323  Weight Captured Separately  Freight Included in Commodity Cost  \n",
       "\n",
       "[10324 rows x 6 columns]"
      ],
      "text/html": [
       "<div>\n",
       "<style scoped>\n",
       "    .dataframe tbody tr th:only-of-type {\n",
       "        vertical-align: middle;\n",
       "    }\n",
       "\n",
       "    .dataframe tbody tr th {\n",
       "        vertical-align: top;\n",
       "    }\n",
       "\n",
       "    .dataframe thead th {\n",
       "        text-align: right;\n",
       "    }\n",
       "</style>\n",
       "<table border=\"1\" class=\"dataframe\">\n",
       "  <thead>\n",
       "    <tr style=\"text-align: right;\">\n",
       "      <th></th>\n",
       "      <th>Country</th>\n",
       "      <th>Managed By</th>\n",
       "      <th>Shipment Mode</th>\n",
       "      <th>Cijena_paketa</th>\n",
       "      <th>Masa_tereta</th>\n",
       "      <th>Cijena_transporta</th>\n",
       "    </tr>\n",
       "  </thead>\n",
       "  <tbody>\n",
       "    <tr>\n",
       "      <th>0</th>\n",
       "      <td>C�te d'Ivoire</td>\n",
       "      <td>PMO - US</td>\n",
       "      <td>Air</td>\n",
       "      <td>29.00</td>\n",
       "      <td>13</td>\n",
       "      <td>780.34</td>\n",
       "    </tr>\n",
       "    <tr>\n",
       "      <th>1</th>\n",
       "      <td>Vietnam</td>\n",
       "      <td>PMO - US</td>\n",
       "      <td>Air</td>\n",
       "      <td>6.20</td>\n",
       "      <td>358</td>\n",
       "      <td>4521.5</td>\n",
       "    </tr>\n",
       "    <tr>\n",
       "      <th>2</th>\n",
       "      <td>C�te d'Ivoire</td>\n",
       "      <td>PMO - US</td>\n",
       "      <td>Air</td>\n",
       "      <td>80.00</td>\n",
       "      <td>171</td>\n",
       "      <td>1653.78</td>\n",
       "    </tr>\n",
       "    <tr>\n",
       "      <th>3</th>\n",
       "      <td>Vietnam</td>\n",
       "      <td>PMO - US</td>\n",
       "      <td>Air</td>\n",
       "      <td>3.99</td>\n",
       "      <td>1855</td>\n",
       "      <td>16007.06</td>\n",
       "    </tr>\n",
       "    <tr>\n",
       "      <th>4</th>\n",
       "      <td>Vietnam</td>\n",
       "      <td>PMO - US</td>\n",
       "      <td>Air</td>\n",
       "      <td>3.20</td>\n",
       "      <td>7590</td>\n",
       "      <td>45450.08</td>\n",
       "    </tr>\n",
       "    <tr>\n",
       "      <th>...</th>\n",
       "      <td>...</td>\n",
       "      <td>...</td>\n",
       "      <td>...</td>\n",
       "      <td>...</td>\n",
       "      <td>...</td>\n",
       "      <td>...</td>\n",
       "    </tr>\n",
       "    <tr>\n",
       "      <th>10319</th>\n",
       "      <td>Zimbabwe</td>\n",
       "      <td>PMO - US</td>\n",
       "      <td>Truck</td>\n",
       "      <td>3.60</td>\n",
       "      <td>See DN-4307 (ID#:83920)</td>\n",
       "      <td>See DN-4307 (ID#:83920)</td>\n",
       "    </tr>\n",
       "    <tr>\n",
       "      <th>10320</th>\n",
       "      <td>C�te d'Ivoire</td>\n",
       "      <td>PMO - US</td>\n",
       "      <td>Truck</td>\n",
       "      <td>6.52</td>\n",
       "      <td>See DN-4313 (ID#:83921)</td>\n",
       "      <td>See DN-4313 (ID#:83921)</td>\n",
       "    </tr>\n",
       "    <tr>\n",
       "      <th>10321</th>\n",
       "      <td>Zambia</td>\n",
       "      <td>PMO - US</td>\n",
       "      <td>Truck</td>\n",
       "      <td>9.99</td>\n",
       "      <td>Weight Captured Separately</td>\n",
       "      <td>Freight Included in Commodity Cost</td>\n",
       "    </tr>\n",
       "    <tr>\n",
       "      <th>10322</th>\n",
       "      <td>Zimbabwe</td>\n",
       "      <td>PMO - US</td>\n",
       "      <td>Truck</td>\n",
       "      <td>6.52</td>\n",
       "      <td>1392</td>\n",
       "      <td>Freight Included in Commodity Cost</td>\n",
       "    </tr>\n",
       "    <tr>\n",
       "      <th>10323</th>\n",
       "      <td>Zimbabwe</td>\n",
       "      <td>PMO - US</td>\n",
       "      <td>Truck</td>\n",
       "      <td>1.99</td>\n",
       "      <td>Weight Captured Separately</td>\n",
       "      <td>Freight Included in Commodity Cost</td>\n",
       "    </tr>\n",
       "  </tbody>\n",
       "</table>\n",
       "<p>10324 rows × 6 columns</p>\n",
       "</div>"
      ]
     },
     "metadata": {},
     "execution_count": 9
    }
   ],
   "metadata": {}
  },
  {
   "cell_type": "code",
   "execution_count": 10,
   "source": [
    "podaci.Masa_tereta = pd.to_numeric(podaci['Masa_tereta'], errors = 'coerce')\r\n",
    "podaci.Cijena_transporta = pd.to_numeric(podaci['Cijena_transporta'], errors='coerce')\r\n",
    "podaci['Masa_tereta'].fillna(podaci['Masa_tereta'].mean(), inplace = True)\r\n",
    "podaci['Cijena_transporta'].fillna(podaci['Cijena_transporta'].mean(), inplace = True)"
   ],
   "outputs": [],
   "metadata": {}
  },
  {
   "cell_type": "code",
   "execution_count": 11,
   "source": [
    "podaci"
   ],
   "outputs": [
    {
     "output_type": "execute_result",
     "data": {
      "text/plain": [
       "             Country Managed By Shipment Mode  Cijena_paketa  Masa_tereta  \\\n",
       "0      C�te d'Ivoire   PMO - US           Air          29.00    13.000000   \n",
       "1            Vietnam   PMO - US           Air           6.20   358.000000   \n",
       "2      C�te d'Ivoire   PMO - US           Air          80.00   171.000000   \n",
       "3            Vietnam   PMO - US           Air           3.99  1855.000000   \n",
       "4            Vietnam   PMO - US           Air           3.20  7590.000000   \n",
       "...              ...        ...           ...            ...          ...   \n",
       "10319       Zimbabwe   PMO - US         Truck           3.60  3172.574211   \n",
       "10320  C�te d'Ivoire   PMO - US         Truck           6.52  3172.574211   \n",
       "10321         Zambia   PMO - US         Truck           9.99  3172.574211   \n",
       "10322       Zimbabwe   PMO - US         Truck           6.52  1392.000000   \n",
       "10323       Zimbabwe   PMO - US         Truck           1.99  3172.574211   \n",
       "\n",
       "       Cijena_transporta  \n",
       "0             780.340000  \n",
       "1            4521.500000  \n",
       "2            1653.780000  \n",
       "3           16007.060000  \n",
       "4           45450.080000  \n",
       "...                  ...  \n",
       "10319       11103.234819  \n",
       "10320       11103.234819  \n",
       "10321       11103.234819  \n",
       "10322       11103.234819  \n",
       "10323       11103.234819  \n",
       "\n",
       "[10324 rows x 6 columns]"
      ],
      "text/html": [
       "<div>\n",
       "<style scoped>\n",
       "    .dataframe tbody tr th:only-of-type {\n",
       "        vertical-align: middle;\n",
       "    }\n",
       "\n",
       "    .dataframe tbody tr th {\n",
       "        vertical-align: top;\n",
       "    }\n",
       "\n",
       "    .dataframe thead th {\n",
       "        text-align: right;\n",
       "    }\n",
       "</style>\n",
       "<table border=\"1\" class=\"dataframe\">\n",
       "  <thead>\n",
       "    <tr style=\"text-align: right;\">\n",
       "      <th></th>\n",
       "      <th>Country</th>\n",
       "      <th>Managed By</th>\n",
       "      <th>Shipment Mode</th>\n",
       "      <th>Cijena_paketa</th>\n",
       "      <th>Masa_tereta</th>\n",
       "      <th>Cijena_transporta</th>\n",
       "    </tr>\n",
       "  </thead>\n",
       "  <tbody>\n",
       "    <tr>\n",
       "      <th>0</th>\n",
       "      <td>C�te d'Ivoire</td>\n",
       "      <td>PMO - US</td>\n",
       "      <td>Air</td>\n",
       "      <td>29.00</td>\n",
       "      <td>13.000000</td>\n",
       "      <td>780.340000</td>\n",
       "    </tr>\n",
       "    <tr>\n",
       "      <th>1</th>\n",
       "      <td>Vietnam</td>\n",
       "      <td>PMO - US</td>\n",
       "      <td>Air</td>\n",
       "      <td>6.20</td>\n",
       "      <td>358.000000</td>\n",
       "      <td>4521.500000</td>\n",
       "    </tr>\n",
       "    <tr>\n",
       "      <th>2</th>\n",
       "      <td>C�te d'Ivoire</td>\n",
       "      <td>PMO - US</td>\n",
       "      <td>Air</td>\n",
       "      <td>80.00</td>\n",
       "      <td>171.000000</td>\n",
       "      <td>1653.780000</td>\n",
       "    </tr>\n",
       "    <tr>\n",
       "      <th>3</th>\n",
       "      <td>Vietnam</td>\n",
       "      <td>PMO - US</td>\n",
       "      <td>Air</td>\n",
       "      <td>3.99</td>\n",
       "      <td>1855.000000</td>\n",
       "      <td>16007.060000</td>\n",
       "    </tr>\n",
       "    <tr>\n",
       "      <th>4</th>\n",
       "      <td>Vietnam</td>\n",
       "      <td>PMO - US</td>\n",
       "      <td>Air</td>\n",
       "      <td>3.20</td>\n",
       "      <td>7590.000000</td>\n",
       "      <td>45450.080000</td>\n",
       "    </tr>\n",
       "    <tr>\n",
       "      <th>...</th>\n",
       "      <td>...</td>\n",
       "      <td>...</td>\n",
       "      <td>...</td>\n",
       "      <td>...</td>\n",
       "      <td>...</td>\n",
       "      <td>...</td>\n",
       "    </tr>\n",
       "    <tr>\n",
       "      <th>10319</th>\n",
       "      <td>Zimbabwe</td>\n",
       "      <td>PMO - US</td>\n",
       "      <td>Truck</td>\n",
       "      <td>3.60</td>\n",
       "      <td>3172.574211</td>\n",
       "      <td>11103.234819</td>\n",
       "    </tr>\n",
       "    <tr>\n",
       "      <th>10320</th>\n",
       "      <td>C�te d'Ivoire</td>\n",
       "      <td>PMO - US</td>\n",
       "      <td>Truck</td>\n",
       "      <td>6.52</td>\n",
       "      <td>3172.574211</td>\n",
       "      <td>11103.234819</td>\n",
       "    </tr>\n",
       "    <tr>\n",
       "      <th>10321</th>\n",
       "      <td>Zambia</td>\n",
       "      <td>PMO - US</td>\n",
       "      <td>Truck</td>\n",
       "      <td>9.99</td>\n",
       "      <td>3172.574211</td>\n",
       "      <td>11103.234819</td>\n",
       "    </tr>\n",
       "    <tr>\n",
       "      <th>10322</th>\n",
       "      <td>Zimbabwe</td>\n",
       "      <td>PMO - US</td>\n",
       "      <td>Truck</td>\n",
       "      <td>6.52</td>\n",
       "      <td>1392.000000</td>\n",
       "      <td>11103.234819</td>\n",
       "    </tr>\n",
       "    <tr>\n",
       "      <th>10323</th>\n",
       "      <td>Zimbabwe</td>\n",
       "      <td>PMO - US</td>\n",
       "      <td>Truck</td>\n",
       "      <td>1.99</td>\n",
       "      <td>3172.574211</td>\n",
       "      <td>11103.234819</td>\n",
       "    </tr>\n",
       "  </tbody>\n",
       "</table>\n",
       "<p>10324 rows × 6 columns</p>\n",
       "</div>"
      ]
     },
     "metadata": {},
     "execution_count": 11
    }
   ],
   "metadata": {}
  },
  {
   "cell_type": "code",
   "execution_count": 12,
   "source": [
    "nova_cijena_transporta = []\r\n",
    "for i in range(len(podaci['Cijena_transporta'])):\r\n",
    "    if podaci['Cijena_transporta'][i] >1 and podaci['Cijena_transporta'][i] <80000:\r\n",
    "        nova_cijena_transporta.append(podaci['Cijena_transporta'][i]) \r\n",
    "    else:\r\n",
    "        nova_cijena_transporta.append(podaci['Cijena_transporta'].mean())"
   ],
   "outputs": [],
   "metadata": {}
  },
  {
   "cell_type": "code",
   "execution_count": 13,
   "source": [
    "nova_masa_tereta = []\r\n",
    "for i in range(len(podaci['Masa_tereta'])):\r\n",
    "    if podaci['Masa_tereta'][i] > 1 and podaci['Masa_tereta'][i] < 45000:\r\n",
    "        nova_masa_tereta.append(podaci['Masa_tereta'][i]) \r\n",
    "    else:\r\n",
    "        nova_masa_tereta.append(podaci['Masa_tereta'].mean())"
   ],
   "outputs": [],
   "metadata": {}
  },
  {
   "cell_type": "code",
   "execution_count": 14,
   "source": [
    "podaci.Masa_tereta = nova_masa_tereta"
   ],
   "outputs": [],
   "metadata": {}
  },
  {
   "cell_type": "code",
   "execution_count": 15,
   "source": [
    "podaci.Cijena_transporta = nova_cijena_transporta"
   ],
   "outputs": [],
   "metadata": {}
  },
  {
   "cell_type": "code",
   "execution_count": 16,
   "source": [
    "podaci.info()"
   ],
   "outputs": [
    {
     "output_type": "stream",
     "name": "stdout",
     "text": [
      "<class 'pandas.core.frame.DataFrame'>\n",
      "RangeIndex: 10324 entries, 0 to 10323\n",
      "Data columns (total 6 columns):\n",
      " #   Column             Non-Null Count  Dtype  \n",
      "---  ------             --------------  -----  \n",
      " 0   Country            10324 non-null  object \n",
      " 1   Managed By         10324 non-null  object \n",
      " 2   Shipment Mode      9964 non-null   object \n",
      " 3   Cijena_paketa      10324 non-null  float64\n",
      " 4   Masa_tereta        10324 non-null  float64\n",
      " 5   Cijena_transporta  10324 non-null  float64\n",
      "dtypes: float64(3), object(3)\n",
      "memory usage: 484.1+ KB\n"
     ]
    }
   ],
   "metadata": {}
  },
  {
   "cell_type": "code",
   "execution_count": 17,
   "source": [
    "podaci.describe()"
   ],
   "outputs": [
    {
     "output_type": "execute_result",
     "data": {
      "text/plain": [
       "       Cijena_paketa   Masa_tereta  Cijena_transporta\n",
       "count   10324.000000  10324.000000       10324.000000\n",
       "mean       21.910241   3002.697129       10550.054887\n",
       "std        45.609223   3925.317516        9221.139038\n",
       "min         0.000000      2.000000          14.360000\n",
       "25%         4.120000    631.000000        4327.657500\n",
       "50%         9.300000   3172.574211       11103.234819\n",
       "75%        23.592500   3172.574211       11103.234819\n",
       "max      1345.640000  43571.000000       79938.080000"
      ],
      "text/html": [
       "<div>\n",
       "<style scoped>\n",
       "    .dataframe tbody tr th:only-of-type {\n",
       "        vertical-align: middle;\n",
       "    }\n",
       "\n",
       "    .dataframe tbody tr th {\n",
       "        vertical-align: top;\n",
       "    }\n",
       "\n",
       "    .dataframe thead th {\n",
       "        text-align: right;\n",
       "    }\n",
       "</style>\n",
       "<table border=\"1\" class=\"dataframe\">\n",
       "  <thead>\n",
       "    <tr style=\"text-align: right;\">\n",
       "      <th></th>\n",
       "      <th>Cijena_paketa</th>\n",
       "      <th>Masa_tereta</th>\n",
       "      <th>Cijena_transporta</th>\n",
       "    </tr>\n",
       "  </thead>\n",
       "  <tbody>\n",
       "    <tr>\n",
       "      <th>count</th>\n",
       "      <td>10324.000000</td>\n",
       "      <td>10324.000000</td>\n",
       "      <td>10324.000000</td>\n",
       "    </tr>\n",
       "    <tr>\n",
       "      <th>mean</th>\n",
       "      <td>21.910241</td>\n",
       "      <td>3002.697129</td>\n",
       "      <td>10550.054887</td>\n",
       "    </tr>\n",
       "    <tr>\n",
       "      <th>std</th>\n",
       "      <td>45.609223</td>\n",
       "      <td>3925.317516</td>\n",
       "      <td>9221.139038</td>\n",
       "    </tr>\n",
       "    <tr>\n",
       "      <th>min</th>\n",
       "      <td>0.000000</td>\n",
       "      <td>2.000000</td>\n",
       "      <td>14.360000</td>\n",
       "    </tr>\n",
       "    <tr>\n",
       "      <th>25%</th>\n",
       "      <td>4.120000</td>\n",
       "      <td>631.000000</td>\n",
       "      <td>4327.657500</td>\n",
       "    </tr>\n",
       "    <tr>\n",
       "      <th>50%</th>\n",
       "      <td>9.300000</td>\n",
       "      <td>3172.574211</td>\n",
       "      <td>11103.234819</td>\n",
       "    </tr>\n",
       "    <tr>\n",
       "      <th>75%</th>\n",
       "      <td>23.592500</td>\n",
       "      <td>3172.574211</td>\n",
       "      <td>11103.234819</td>\n",
       "    </tr>\n",
       "    <tr>\n",
       "      <th>max</th>\n",
       "      <td>1345.640000</td>\n",
       "      <td>43571.000000</td>\n",
       "      <td>79938.080000</td>\n",
       "    </tr>\n",
       "  </tbody>\n",
       "</table>\n",
       "</div>"
      ]
     },
     "metadata": {},
     "execution_count": 17
    }
   ],
   "metadata": {}
  },
  {
   "cell_type": "code",
   "execution_count": 18,
   "source": [
    "podaci.shape"
   ],
   "outputs": [
    {
     "output_type": "execute_result",
     "data": {
      "text/plain": [
       "(10324, 6)"
      ]
     },
     "metadata": {},
     "execution_count": 18
    }
   ],
   "metadata": {}
  },
  {
   "cell_type": "code",
   "execution_count": 19,
   "source": [
    "plt.boxplot(podaci['Cijena_transporta'])"
   ],
   "outputs": [
    {
     "output_type": "execute_result",
     "data": {
      "text/plain": [
       "{'whiskers': [<matplotlib.lines.Line2D at 0x16d107afee0>,\n",
       "  <matplotlib.lines.Line2D at 0x16d107afeb0>],\n",
       " 'caps': [<matplotlib.lines.Line2D at 0x16d107af880>,\n",
       "  <matplotlib.lines.Line2D at 0x16d1090cdc0>],\n",
       " 'boxes': [<matplotlib.lines.Line2D at 0x16d108c7c40>],\n",
       " 'medians': [<matplotlib.lines.Line2D at 0x16d1090c190>],\n",
       " 'fliers': [<matplotlib.lines.Line2D at 0x16d1090c5e0>],\n",
       " 'means': []}"
      ]
     },
     "metadata": {},
     "execution_count": 19
    },
    {
     "output_type": "display_data",
     "data": {
      "text/plain": [
       "<Figure size 432x288 with 1 Axes>"
      ],
      "image/png": "[encoded data removed]"
     },
     "metadata": {
      "needs_background": "light"
     }
    }
   ],
   "metadata": {}
  },
  {
   "cell_type": "code",
   "execution_count": 20,
   "source": [
    "sns.relplot(x = 'Masa_tereta', y = 'Cijena_transporta', data = podaci)"
   ],
   "outputs": [
    {
     "output_type": "execute_result",
     "data": {
      "text/plain": [
       "<seaborn.axisgrid.FacetGrid at 0x16d108c3af0>"
      ]
     },
     "metadata": {},
     "execution_count": 20
    },
    {
     "output_type": "display_data",
     "data": {
      "text/plain": [
       "<Figure size 360x360 with 1 Axes>"
      ],
      "image/png": "[encoded data removed]"
     },
     "metadata": {
      "needs_background": "light"
     }
    }
   ],
   "metadata": {}
  },
  {
   "cell_type": "code",
   "execution_count": 21,
   "source": [
    "sns.heatmap(podaci.corr(), annot = True)"
   ],
   "outputs": [
    {
     "output_type": "execute_result",
     "data": {
      "text/plain": [
       "<AxesSubplot:>"
      ]
     },
     "metadata": {},
     "execution_count": 21
    },
    {
     "output_type": "display_data",
     "data": {
      "text/plain": [
       "<Figure size 432x288 with 2 Axes>"
      ],
      "image/png": "[encoded data removed]"
     },
     "metadata": {
      "needs_background": "light"
     }
    }
   ],
   "metadata": {}
  },
  {
   "cell_type": "code",
   "execution_count": 22,
   "source": [
    "podaci.columns"
   ],
   "outputs": [
    {
     "output_type": "execute_result",
     "data": {
      "text/plain": [
       "Index(['Country', 'Managed By', 'Shipment Mode', 'Cijena_paketa',\n",
       "       'Masa_tereta', 'Cijena_transporta'],\n",
       "      dtype='object')"
      ]
     },
     "metadata": {},
     "execution_count": 22
    }
   ],
   "metadata": {}
  },
  {
   "cell_type": "code",
   "execution_count": 23,
   "source": [
    "mod = podaci.copy()\r\n",
    "mod.set_index('Shipment Mode', inplace=True)"
   ],
   "outputs": [],
   "metadata": {}
  },
  {
   "cell_type": "code",
   "execution_count": 24,
   "source": [
    "mod.head()"
   ],
   "outputs": [
    {
     "output_type": "execute_result",
     "data": {
      "text/plain": [
       "                     Country Managed By  Cijena_paketa  Masa_tereta  \\\n",
       "Shipment Mode                                                         \n",
       "Air            C�te d'Ivoire   PMO - US          29.00         13.0   \n",
       "Air                  Vietnam   PMO - US           6.20        358.0   \n",
       "Air            C�te d'Ivoire   PMO - US          80.00        171.0   \n",
       "Air                  Vietnam   PMO - US           3.99       1855.0   \n",
       "Air                  Vietnam   PMO - US           3.20       7590.0   \n",
       "\n",
       "               Cijena_transporta  \n",
       "Shipment Mode                     \n",
       "Air                       780.34  \n",
       "Air                      4521.50  \n",
       "Air                      1653.78  \n",
       "Air                     16007.06  \n",
       "Air                     45450.08  "
      ],
      "text/html": [
       "<div>\n",
       "<style scoped>\n",
       "    .dataframe tbody tr th:only-of-type {\n",
       "        vertical-align: middle;\n",
       "    }\n",
       "\n",
       "    .dataframe tbody tr th {\n",
       "        vertical-align: top;\n",
       "    }\n",
       "\n",
       "    .dataframe thead th {\n",
       "        text-align: right;\n",
       "    }\n",
       "</style>\n",
       "<table border=\"1\" class=\"dataframe\">\n",
       "  <thead>\n",
       "    <tr style=\"text-align: right;\">\n",
       "      <th></th>\n",
       "      <th>Country</th>\n",
       "      <th>Managed By</th>\n",
       "      <th>Cijena_paketa</th>\n",
       "      <th>Masa_tereta</th>\n",
       "      <th>Cijena_transporta</th>\n",
       "    </tr>\n",
       "    <tr>\n",
       "      <th>Shipment Mode</th>\n",
       "      <th></th>\n",
       "      <th></th>\n",
       "      <th></th>\n",
       "      <th></th>\n",
       "      <th></th>\n",
       "    </tr>\n",
       "  </thead>\n",
       "  <tbody>\n",
       "    <tr>\n",
       "      <th>Air</th>\n",
       "      <td>C�te d'Ivoire</td>\n",
       "      <td>PMO - US</td>\n",
       "      <td>29.00</td>\n",
       "      <td>13.0</td>\n",
       "      <td>780.34</td>\n",
       "    </tr>\n",
       "    <tr>\n",
       "      <th>Air</th>\n",
       "      <td>Vietnam</td>\n",
       "      <td>PMO - US</td>\n",
       "      <td>6.20</td>\n",
       "      <td>358.0</td>\n",
       "      <td>4521.50</td>\n",
       "    </tr>\n",
       "    <tr>\n",
       "      <th>Air</th>\n",
       "      <td>C�te d'Ivoire</td>\n",
       "      <td>PMO - US</td>\n",
       "      <td>80.00</td>\n",
       "      <td>171.0</td>\n",
       "      <td>1653.78</td>\n",
       "    </tr>\n",
       "    <tr>\n",
       "      <th>Air</th>\n",
       "      <td>Vietnam</td>\n",
       "      <td>PMO - US</td>\n",
       "      <td>3.99</td>\n",
       "      <td>1855.0</td>\n",
       "      <td>16007.06</td>\n",
       "    </tr>\n",
       "    <tr>\n",
       "      <th>Air</th>\n",
       "      <td>Vietnam</td>\n",
       "      <td>PMO - US</td>\n",
       "      <td>3.20</td>\n",
       "      <td>7590.0</td>\n",
       "      <td>45450.08</td>\n",
       "    </tr>\n",
       "  </tbody>\n",
       "</table>\n",
       "</div>"
      ]
     },
     "metadata": {},
     "execution_count": 24
    }
   ],
   "metadata": {}
  },
  {
   "cell_type": "code",
   "execution_count": 25,
   "source": [
    "air = mod.loc['Air']\r\n",
    "aircharter = mod.loc['Air Charter']\r\n",
    "truck = mod.loc['Truck']\r\n",
    "ship = mod.loc['Ocean']"
   ],
   "outputs": [],
   "metadata": {}
  },
  {
   "cell_type": "code",
   "execution_count": 26,
   "source": [
    "aircharter"
   ],
   "outputs": [
    {
     "output_type": "execute_result",
     "data": {
      "text/plain": [
       "               Country Managed By  Cijena_paketa   Masa_tereta  \\\n",
       "Shipment Mode                                                    \n",
       "Air Charter    Nigeria   PMO - US          11.40    506.000000   \n",
       "Air Charter    Nigeria   PMO - US          11.40   3415.000000   \n",
       "Air Charter    Nigeria   PMO - US          26.25    235.000000   \n",
       "Air Charter    Nigeria   PMO - US           9.72   3364.000000   \n",
       "Air Charter    Nigeria   PMO - US          11.40    610.000000   \n",
       "...                ...        ...            ...           ...   \n",
       "Air Charter    Nigeria   PMO - US           4.61   3172.574211   \n",
       "Air Charter    Nigeria   PMO - US          18.64   3232.000000   \n",
       "Air Charter    Nigeria   PMO - US           3.60   3172.574211   \n",
       "Air Charter    Nigeria   PMO - US          18.64  15198.000000   \n",
       "Air Charter    Nigeria   PMO - US           6.52   1547.000000   \n",
       "\n",
       "               Cijena_transporta  \n",
       "Shipment Mode                     \n",
       "Air Charter         22985.720000  \n",
       "Air Charter         15128.370000  \n",
       "Air Charter         15128.370000  \n",
       "Air Charter          7329.830000  \n",
       "Air Charter         11103.234819  \n",
       "...                          ...  \n",
       "Air Charter         11103.234819  \n",
       "Air Charter          4495.290000  \n",
       "Air Charter         11103.234819  \n",
       "Air Charter         26180.000000  \n",
       "Air Charter          3410.000000  \n",
       "\n",
       "[650 rows x 5 columns]"
      ],
      "text/html": [
       "<div>\n",
       "<style scoped>\n",
       "    .dataframe tbody tr th:only-of-type {\n",
       "        vertical-align: middle;\n",
       "    }\n",
       "\n",
       "    .dataframe tbody tr th {\n",
       "        vertical-align: top;\n",
       "    }\n",
       "\n",
       "    .dataframe thead th {\n",
       "        text-align: right;\n",
       "    }\n",
       "</style>\n",
       "<table border=\"1\" class=\"dataframe\">\n",
       "  <thead>\n",
       "    <tr style=\"text-align: right;\">\n",
       "      <th></th>\n",
       "      <th>Country</th>\n",
       "      <th>Managed By</th>\n",
       "      <th>Cijena_paketa</th>\n",
       "      <th>Masa_tereta</th>\n",
       "      <th>Cijena_transporta</th>\n",
       "    </tr>\n",
       "    <tr>\n",
       "      <th>Shipment Mode</th>\n",
       "      <th></th>\n",
       "      <th></th>\n",
       "      <th></th>\n",
       "      <th></th>\n",
       "      <th></th>\n",
       "    </tr>\n",
       "  </thead>\n",
       "  <tbody>\n",
       "    <tr>\n",
       "      <th>Air Charter</th>\n",
       "      <td>Nigeria</td>\n",
       "      <td>PMO - US</td>\n",
       "      <td>11.40</td>\n",
       "      <td>506.000000</td>\n",
       "      <td>22985.720000</td>\n",
       "    </tr>\n",
       "    <tr>\n",
       "      <th>Air Charter</th>\n",
       "      <td>Nigeria</td>\n",
       "      <td>PMO - US</td>\n",
       "      <td>11.40</td>\n",
       "      <td>3415.000000</td>\n",
       "      <td>15128.370000</td>\n",
       "    </tr>\n",
       "    <tr>\n",
       "      <th>Air Charter</th>\n",
       "      <td>Nigeria</td>\n",
       "      <td>PMO - US</td>\n",
       "      <td>26.25</td>\n",
       "      <td>235.000000</td>\n",
       "      <td>15128.370000</td>\n",
       "    </tr>\n",
       "    <tr>\n",
       "      <th>Air Charter</th>\n",
       "      <td>Nigeria</td>\n",
       "      <td>PMO - US</td>\n",
       "      <td>9.72</td>\n",
       "      <td>3364.000000</td>\n",
       "      <td>7329.830000</td>\n",
       "    </tr>\n",
       "    <tr>\n",
       "      <th>Air Charter</th>\n",
       "      <td>Nigeria</td>\n",
       "      <td>PMO - US</td>\n",
       "      <td>11.40</td>\n",
       "      <td>610.000000</td>\n",
       "      <td>11103.234819</td>\n",
       "    </tr>\n",
       "    <tr>\n",
       "      <th>...</th>\n",
       "      <td>...</td>\n",
       "      <td>...</td>\n",
       "      <td>...</td>\n",
       "      <td>...</td>\n",
       "      <td>...</td>\n",
       "    </tr>\n",
       "    <tr>\n",
       "      <th>Air Charter</th>\n",
       "      <td>Nigeria</td>\n",
       "      <td>PMO - US</td>\n",
       "      <td>4.61</td>\n",
       "      <td>3172.574211</td>\n",
       "      <td>11103.234819</td>\n",
       "    </tr>\n",
       "    <tr>\n",
       "      <th>Air Charter</th>\n",
       "      <td>Nigeria</td>\n",
       "      <td>PMO - US</td>\n",
       "      <td>18.64</td>\n",
       "      <td>3232.000000</td>\n",
       "      <td>4495.290000</td>\n",
       "    </tr>\n",
       "    <tr>\n",
       "      <th>Air Charter</th>\n",
       "      <td>Nigeria</td>\n",
       "      <td>PMO - US</td>\n",
       "      <td>3.60</td>\n",
       "      <td>3172.574211</td>\n",
       "      <td>11103.234819</td>\n",
       "    </tr>\n",
       "    <tr>\n",
       "      <th>Air Charter</th>\n",
       "      <td>Nigeria</td>\n",
       "      <td>PMO - US</td>\n",
       "      <td>18.64</td>\n",
       "      <td>15198.000000</td>\n",
       "      <td>26180.000000</td>\n",
       "    </tr>\n",
       "    <tr>\n",
       "      <th>Air Charter</th>\n",
       "      <td>Nigeria</td>\n",
       "      <td>PMO - US</td>\n",
       "      <td>6.52</td>\n",
       "      <td>1547.000000</td>\n",
       "      <td>3410.000000</td>\n",
       "    </tr>\n",
       "  </tbody>\n",
       "</table>\n",
       "<p>650 rows × 5 columns</p>\n",
       "</div>"
      ]
     },
     "metadata": {},
     "execution_count": 26
    }
   ],
   "metadata": {}
  },
  {
   "cell_type": "code",
   "execution_count": 27,
   "source": [
    "aircharter.plot(kind='scatter', x = 'Masa_tereta' , y= 'Cijena_transporta', color='g', figsize=(15,5))  \r\n",
    "plt.title('Međuodnos varijabli')\r\n",
    "plt.show()"
   ],
   "outputs": [
    {
     "output_type": "display_data",
     "data": {
      "text/plain": [
       "<Figure size 1080x360 with 1 Axes>"
      ],
      "image/png": "[encoded data removed]"
     },
     "metadata": {
      "needs_background": "light"
     }
    }
   ],
   "metadata": {}
  },
  {
   "cell_type": "code",
   "execution_count": 28,
   "source": [
    "# USPOREDBA DVAJU VARIJABLI IZ SKUPA\r\n",
    "aircharter.plot(kind='scatter', x = 'Country' , y= 'Cijena_transporta', color='g',figsize=(15,5))  \r\n",
    "plt.title('Međuodnos varijabli')\r\n",
    "plt.xticks(rotation=90)\r\n",
    "plt.show()"
   ],
   "outputs": [
    {
     "output_type": "display_data",
     "data": {
      "text/plain": [
       "<Figure size 1080x360 with 1 Axes>"
      ],
      "image/png": "[encoded data removed]"
     },
     "metadata": {
      "needs_background": "light"
     }
    }
   ],
   "metadata": {}
  },
  {
   "cell_type": "code",
   "execution_count": 29,
   "source": [
    "X = aircharter['Masa_tereta']\r\n",
    "y = aircharter['Cijena_transporta']"
   ],
   "outputs": [],
   "metadata": {}
  },
  {
   "cell_type": "code",
   "execution_count": 30,
   "source": [
    "X_train, X_test, y_train, y_test = train_test_split(X, y, test_size=0.15, random_state=101)"
   ],
   "outputs": [],
   "metadata": {}
  },
  {
   "cell_type": "code",
   "execution_count": 31,
   "source": [
    "plt.scatter(X_train, y_train, label = 'Treniranje funkcije', color = 'r', alpha=.2)\r\n",
    "plt.scatter(X_test, y_test, label = 'Testiranje funkcije', color = 'g', alpha=.2)\r\n",
    "plt.legend()\r\n",
    "plt.title('Uvježbavanje modela')\r\n",
    "plt.show"
   ],
   "outputs": [
    {
     "output_type": "execute_result",
     "data": {
      "text/plain": [
       "<function matplotlib.pyplot.show(close=None, block=None)>"
      ]
     },
     "metadata": {},
     "execution_count": 31
    },
    {
     "output_type": "display_data",
     "data": {
      "text/plain": [
       "<Figure size 432x288 with 1 Axes>"
      ],
      "image/png": "[encoded data removed]"
     },
     "metadata": {
      "needs_background": "light"
     }
    }
   ],
   "metadata": {}
  },
  {
   "cell_type": "code",
   "execution_count": 32,
   "source": [
    "LR = LinearRegression()\r\n",
    "LR.fit(X_train.values.reshape(-1,1), y_train.values)"
   ],
   "outputs": [
    {
     "output_type": "execute_result",
     "data": {
      "text/plain": [
       "LinearRegression()"
      ]
     },
     "metadata": {},
     "execution_count": 32
    }
   ],
   "metadata": {}
  },
  {
   "cell_type": "code",
   "execution_count": 39,
   "source": [
    "prediction = LR.predict(X_test.values.reshape(-1,1))\r\n",
    "plt.plot(X_test, prediction, label = 'Linearna regresija',)\r\n",
    "plt.scatter(X_test, y_test, label = 'Prave vrijednosti', color = 'r', alpha=0.28)\r\n",
    "plt.legend()\r\n",
    "plt.title('Linearna regresija')\r\n",
    "plt.show()"
   ],
   "outputs": [
    {
     "output_type": "display_data",
     "data": {
      "text/plain": [
       "<Figure size 432x288 with 1 Axes>"
      ],
      "image/png": "[encoded data removed]"
     },
     "metadata": {
      "needs_background": "light"
     }
    }
   ],
   "metadata": {}
  },
  {
   "cell_type": "code",
   "execution_count": 40,
   "source": [
    "#PREDIKCIJA ZAVISNE VARIJABLE AKO SE UNESE NEZAVISNA\r\n",
    "LR.predict(np.array([[8300]]))[0]"
   ],
   "outputs": [
    {
     "output_type": "execute_result",
     "data": {
      "text/plain": [
       "19073.298077557447"
      ]
     },
     "metadata": {},
     "execution_count": 40
    }
   ],
   "metadata": {}
  },
  {
   "cell_type": "code",
   "execution_count": 41,
   "source": [
    "#EVALUACIJA USPJEŠNOSTI MODELA\r\n",
    "LR.score(X_test.values.reshape(-1,1), y_test.values)"
   ],
   "outputs": [
    {
     "output_type": "execute_result",
     "data": {
      "text/plain": [
       "0.5100544708154109"
      ]
     },
     "metadata": {},
     "execution_count": 41
    }
   ],
   "metadata": {}
  }
 ],
 "metadata": {
  "kernelspec": {
   "name": "python3",
   "display_name": "Python 3.9.2 64-bit"
  },
  "language_info": {
   "codemirror_mode": {
    "name": "ipython",
    "version": 3
   },
   "file_extension": ".py",
   "mimetype": "text/x-python",
   "name": "python",
   "nbconvert_exporter": "python",
   "pygments_lexer": "ipython3",
   "version": "3.9.2"
  },
  "interpreter": {
   "hash": "0121418e29cf86199bef919fa1f5c437be8974b406c12a994b7ab7e7bcf855f7"
  }
 },
 "nbformat": 4,
 "nbformat_minor": 5
}
