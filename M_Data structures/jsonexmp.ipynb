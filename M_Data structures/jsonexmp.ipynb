{
 "cells": [
  {
   "cell_type": "code",
   "execution_count": 38,
   "id": "0e561433-0dbe-44c5-b165-e1ae13c5438f",
   "metadata": {},
   "outputs": [],
   "source": [
    "# definiranje voznog parka u .json obliku.\n",
    "vozni_park = {\n",
    "    'Vozilo': [\n",
    "        {\n",
    "            'Tip': 'Automobil',\n",
    "            'Pločica': 'ČK - 241 - DK',\n",
    "            'Boja': 'Žuta',\n",
    "            'Kilometraža': 112395,\n",
    "        },\n",
    "        {\n",
    "            'Tip': 'Kombi',\n",
    "            'Pločica': 'ZG - 1902 - NL',\n",
    "            'Boja': 'Crvena',\n",
    "            'Kilometraža': 242194,\n",
    "        },\n",
    "    ]\n",
    "}         "
   ]
  },
  {
   "cell_type": "code",
   "execution_count": 39,
   "id": "80d21692-771b-4421-95ba-b443e3ea6968",
   "metadata": {},
   "outputs": [
    {
     "data": {
      "text/plain": [
       "[{'Tip': 'Automobil',\n",
       "  'Pločica': 'ČK - 241 - DK',\n",
       "  'Boja': 'Žuta',\n",
       "  'Kilometraža': 112395},\n",
       " {'Tip': 'Kombi',\n",
       "  'Pločica': 'ZG - 1902 - NL',\n",
       "  'Boja': 'Crvena',\n",
       "  'Kilometraža': 242194}]"
      ]
     },
     "execution_count": 39,
     "metadata": {},
     "output_type": "execute_result"
    }
   ],
   "source": [
    "# popis svih vozila.\n",
    "vozni_park['Vozilo']"
   ]
  },
  {
   "cell_type": "code",
   "execution_count": 40,
   "id": "90d1a1a3-895e-4704-b1b4-c919f2bc6f88",
   "metadata": {},
   "outputs": [
    {
     "data": {
      "text/plain": [
       "'Automobil'"
      ]
     },
     "execution_count": 40,
     "metadata": {},
     "output_type": "execute_result"
    }
   ],
   "source": [
    "# pristupanje određenom vozilu i njegovom tipu.\n",
    "vozni_park['Vozilo'][0]['Tip']"
   ]
  },
  {
   "cell_type": "code",
   "execution_count": 41,
   "id": "0d66513d-bae4-4dde-b950-0f569a040986",
   "metadata": {},
   "outputs": [
    {
     "name": "stdout",
     "output_type": "stream",
     "text": [
      "Vozilo registracije ČK - 241 - DK zadovoljava tehničke standarde.\n",
      "Vozilo registracije ZG - 1902 - NL potrebno poslati na izvanredni tehnički pregled.\n"
     ]
    }
   ],
   "source": [
    "# slanje vozila s 200 000 kilometara ili više na izvanredni tehnički pregled.\n",
    "for vozilo in vozni_park['Vozilo']:\n",
    "    reg = vozilo['Pločica']\n",
    "    km = vozilo['Kilometraža']\n",
    "    if km >= 200000:\n",
    "        print(f'Vozilo registracije {reg} potrebno poslati na izvanredni tehnički pregled.')\n",
    "    elif km < 200000:\n",
    "        print(f'Vozilo registracije {reg} zadovoljava tehničke standarde.')\n",
    "    else:\n",
    "        break"
   ]
  }
 ],
 "metadata": {
  "kernelspec": {
   "display_name": "Python 3 (ipykernel)",
   "language": "python",
   "name": "python3"
  },
  "language_info": {
   "codemirror_mode": {
    "name": "ipython",
    "version": 3
   },
   "file_extension": ".py",
   "mimetype": "text/x-python",
   "name": "python",
   "nbconvert_exporter": "python",
   "pygments_lexer": "ipython3",
   "version": "3.9.2"
  }
 },
 "nbformat": 4,
 "nbformat_minor": 5
}
