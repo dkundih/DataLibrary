{
 "cells": [
  {
   "cell_type": "code",
   "execution_count": 1,
   "id": "d719e9bb-bde6-4c3d-8b38-357e509cbfd0",
   "metadata": {},
   "outputs": [],
   "source": [
    "# unos biblioteke za unos vremena.\n",
    "from datetime import datetime "
   ]
  },
  {
   "cell_type": "code",
   "execution_count": 2,
   "id": "647da782-2e2c-4611-b947-2170653c148f",
   "metadata": {},
   "outputs": [],
   "source": [
    "# zapisivanje narudžbi i vremena.\n",
    "with open('Narudžbe.txt', 'w', encoding = 'utf-8') as f:\n",
    "    vrijeme = datetime.now()\n",
    "    f.write('Sobna lampa' + ' ' + str(vrijeme))\n",
    "    f.write('\\nBazen' + ' ' + str(vrijeme))\n",
    "    f.write('\\nRučni sat' + ' ' + str(vrijeme))\n",
    "    f.write('\\nNaočale' + ' ' + str(vrijeme))"
   ]
  },
  {
   "cell_type": "code",
   "execution_count": 3,
   "id": "88b3a892-711c-48b7-9674-166c04cb934c",
   "metadata": {},
   "outputs": [
    {
     "data": {
      "text/plain": [
       "['Sobna lampa 2022-06-28 15:48:46.529554',\n",
       " 'Bazen 2022-06-28 15:48:46.529554',\n",
       " 'Ručni sat 2022-06-28 15:48:46.529554',\n",
       " 'Naočale 2022-06-28 15:48:46.529554']"
      ]
     },
     "execution_count": 3,
     "metadata": {},
     "output_type": "execute_result"
    }
   ],
   "source": [
    "# otvaranje datoteke s narudžbama.\n",
    "datoteka = open('Narudžbe.txt', 'r', encoding = 'utf-8')\n",
    "datoteka.read().splitlines()"
   ]
  },
  {
   "cell_type": "code",
   "execution_count": 4,
   "id": "f7435b77-95ce-4b7c-b483-b971070e5524",
   "metadata": {},
   "outputs": [],
   "source": [
    "# zatvaranje datoteke.\n",
    "datoteka.close()"
   ]
  }
 ],
 "metadata": {
  "kernelspec": {
   "display_name": "Python 3 (ipykernel)",
   "language": "python",
   "name": "python3"
  },
  "language_info": {
   "codemirror_mode": {
    "name": "ipython",
    "version": 3
   },
   "file_extension": ".py",
   "mimetype": "text/x-python",
   "name": "python",
   "nbconvert_exporter": "python",
   "pygments_lexer": "ipython3",
   "version": "3.9.2"
  }
 },
 "nbformat": 4,
 "nbformat_minor": 5
}
