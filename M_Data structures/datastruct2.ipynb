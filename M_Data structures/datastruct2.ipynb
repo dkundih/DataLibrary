{
 "cells": [
  {
   "cell_type": "code",
   "execution_count": 9,
   "id": "1fd9ac4c-e3ce-4c37-b3af-1f966cceb0af",
   "metadata": {},
   "outputs": [],
   "source": [
    "obj_1 = {}\n",
    "obj_2 = dict()"
   ]
  },
  {
   "cell_type": "code",
   "execution_count": 10,
   "id": "e01f2fab-b550-4eaf-8876-37484547e831",
   "metadata": {},
   "outputs": [
    {
     "data": {
      "text/plain": [
       "dict"
      ]
     },
     "execution_count": 10,
     "metadata": {},
     "output_type": "execute_result"
    }
   ],
   "source": [
    "type(obj_1)"
   ]
  },
  {
   "cell_type": "code",
   "execution_count": 11,
   "id": "11b7f62f-d3ed-4c69-8e76-4db2d502a5d7",
   "metadata": {},
   "outputs": [
    {
     "data": {
      "text/plain": [
       "dict"
      ]
     },
     "execution_count": 11,
     "metadata": {},
     "output_type": "execute_result"
    }
   ],
   "source": [
    "type(obj_2)"
   ]
  },
  {
   "cell_type": "code",
   "execution_count": 12,
   "id": "21969f81-962a-4c55-8b7f-2e8a1d8ea825",
   "metadata": {},
   "outputs": [],
   "source": [
    "obj_3 = []\n",
    "obj_4 = list()"
   ]
  },
  {
   "cell_type": "code",
   "execution_count": 13,
   "id": "7d453678-f779-4a03-b0f9-576931ef964a",
   "metadata": {},
   "outputs": [
    {
     "data": {
      "text/plain": [
       "list"
      ]
     },
     "execution_count": 13,
     "metadata": {},
     "output_type": "execute_result"
    }
   ],
   "source": [
    "type(obj_3)"
   ]
  },
  {
   "cell_type": "code",
   "execution_count": 14,
   "id": "8c23d0f5-116e-4818-9cc9-0b58ea1be0bf",
   "metadata": {},
   "outputs": [
    {
     "data": {
      "text/plain": [
       "list"
      ]
     },
     "execution_count": 14,
     "metadata": {},
     "output_type": "execute_result"
    }
   ],
   "source": [
    "type(obj_4)"
   ]
  },
  {
   "cell_type": "code",
   "execution_count": 18,
   "id": "0dc4dd55-c544-412a-be03-e74557e79e42",
   "metadata": {},
   "outputs": [],
   "source": [
    "obj_5 = set()"
   ]
  },
  {
   "cell_type": "code",
   "execution_count": 19,
   "id": "5afc77ec-8f6c-4789-88d6-691a7304c9d2",
   "metadata": {},
   "outputs": [
    {
     "data": {
      "text/plain": [
       "set"
      ]
     },
     "execution_count": 19,
     "metadata": {},
     "output_type": "execute_result"
    }
   ],
   "source": [
    "type(obj_5)"
   ]
  },
  {
   "cell_type": "code",
   "execution_count": 20,
   "id": "db72d543-7b41-4267-ad4c-313be3fbd5fc",
   "metadata": {},
   "outputs": [],
   "source": [
    "obj_6 = ()\n",
    "obj_7 = tuple()"
   ]
  },
  {
   "cell_type": "code",
   "execution_count": 21,
   "id": "8911dea4-619a-4136-9d72-cfd989b496a1",
   "metadata": {},
   "outputs": [
    {
     "data": {
      "text/plain": [
       "tuple"
      ]
     },
     "execution_count": 21,
     "metadata": {},
     "output_type": "execute_result"
    }
   ],
   "source": [
    "type(obj_6)"
   ]
  },
  {
   "cell_type": "code",
   "execution_count": 22,
   "id": "c7e433b1-0c50-457e-ac2e-f606366d42c9",
   "metadata": {},
   "outputs": [
    {
     "data": {
      "text/plain": [
       "tuple"
      ]
     },
     "execution_count": 22,
     "metadata": {},
     "output_type": "execute_result"
    }
   ],
   "source": [
    "type(obj_7)"
   ]
  },
  {
   "cell_type": "code",
   "execution_count": 25,
   "id": "0c7c69e5-7b33-4a0c-bbef-33efec9dbac8",
   "metadata": {},
   "outputs": [],
   "source": [
    "obj_8 = open('primjer.txt', 'w')"
   ]
  },
  {
   "cell_type": "code",
   "execution_count": 26,
   "id": "dc9fe353-93a7-4a2f-9e15-bbf3a16bf875",
   "metadata": {},
   "outputs": [
    {
     "data": {
      "text/plain": [
       "_io.TextIOWrapper"
      ]
     },
     "execution_count": 26,
     "metadata": {},
     "output_type": "execute_result"
    }
   ],
   "source": [
    "type(obj_8)"
   ]
  }
 ],
 "metadata": {
  "kernelspec": {
   "display_name": "Python 3 (ipykernel)",
   "language": "python",
   "name": "python3"
  },
  "language_info": {
   "codemirror_mode": {
    "name": "ipython",
    "version": 3
   },
   "file_extension": ".py",
   "mimetype": "text/x-python",
   "name": "python",
   "nbconvert_exporter": "python",
   "pygments_lexer": "ipython3",
   "version": "3.9.2"
  }
 },
 "nbformat": 4,
 "nbformat_minor": 5
}
