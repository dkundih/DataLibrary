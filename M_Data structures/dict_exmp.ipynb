{
 "cells": [
  {
   "cell_type": "code",
   "execution_count": 24,
   "id": "fed477f3-c413-486a-b314-e0d36b6e715e",
   "metadata": {},
   "outputs": [],
   "source": [
    "# kreiranje rječnika (podložno i učitavanju s računala).\n",
    "Dostava = {\n",
    "'Bazen': '16.04.2022.',\n",
    "'Sobna lampa': '05.05.2022.',\n",
    "'Ručni sat': '16.05.2022.',\n",
    "'Naočale' : '28.05.2022.',\n",
    "}"
   ]
  },
  {
   "cell_type": "code",
   "execution_count": 25,
   "id": "7ffae242-433d-4e3f-a359-b6dcd7f61f60",
   "metadata": {},
   "outputs": [],
   "source": [
    "# primjer odabira proizvoda 'Sobna lampa' iz rječnika i pristup datumu.\n",
    "objekt = 'Sobna lampa'\n",
    "datum = Dostava[objekt]"
   ]
  },
  {
   "cell_type": "code",
   "execution_count": 26,
   "id": "3d7414cf-1908-4f5e-8a9d-7a57983883f2",
   "metadata": {},
   "outputs": [
    {
     "data": {
      "text/plain": [
       "'Proizvod Sobna lampa mora biti isporučen na dan 05.05.2022.'"
      ]
     },
     "execution_count": 26,
     "metadata": {},
     "output_type": "execute_result"
    }
   ],
   "source": [
    "# izvještavanje o datumu dostave željenog objekta.\n",
    "f'Proizvod {objekt} mora biti isporučen na dan {datum}'"
   ]
  }
 ],
 "metadata": {
  "kernelspec": {
   "display_name": "Python 3 (ipykernel)",
   "language": "python",
   "name": "python3"
  },
  "language_info": {
   "codemirror_mode": {
    "name": "ipython",
    "version": 3
   },
   "file_extension": ".py",
   "mimetype": "text/x-python",
   "name": "python",
   "nbconvert_exporter": "python",
   "pygments_lexer": "ipython3",
   "version": "3.9.2"
  }
 },
 "nbformat": 4,
 "nbformat_minor": 5
}
