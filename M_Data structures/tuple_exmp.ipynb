{
 "cells": [
  {
   "cell_type": "code",
   "execution_count": 119,
   "id": "fed477f3-c413-486a-b314-e0d36b6e715e",
   "metadata": {},
   "outputs": [],
   "source": [
    "# kreiranje uređene liste.\n",
    "Kupac_1 = ('Marko', (45.82, 15.97), 'Sobna lampa')\n",
    "Kupac_2 = ('Ana', (43.82, 16.97), 'Bazen')"
   ]
  },
  {
   "cell_type": "code",
   "execution_count": 120,
   "id": "6c8a3791-8467-4c3b-9f2b-4a3af772f3c9",
   "metadata": {},
   "outputs": [],
   "source": [
    "# raspakirani podaci.\n",
    "ime_1, lokacija_1, proizvod_1 = Kupac_1\n",
    "ime_2, lokacija_2, proizvod_2 = Kupac_2"
   ]
  },
  {
   "cell_type": "code",
   "execution_count": 121,
   "id": "60758ffc-f729-43d9-9256-bd95f9d272f4",
   "metadata": {},
   "outputs": [
    {
     "data": {
      "text/plain": [
       "'Sobna lampa'"
      ]
     },
     "execution_count": 121,
     "metadata": {},
     "output_type": "execute_result"
    }
   ],
   "source": [
    "# primjer proizvoda prvog kupca.\n",
    "proizvod_1"
   ]
  },
  {
   "cell_type": "code",
   "execution_count": 122,
   "id": "29a0f257-8f14-4a31-8612-24913be86b50",
   "metadata": {},
   "outputs": [
    {
     "data": {
      "text/plain": [
       "[('Marko', 'Ana'), ((45.82, 15.97), (43.82, 16.97)), ('Sobna lampa', 'Bazen')]"
      ]
     },
     "execution_count": 122,
     "metadata": {},
     "output_type": "execute_result"
    }
   ],
   "source": [
    "# grupiranje svih kupaca.\n",
    "grupiranje = list(zip(Kupac_1, Kupac_2))\n",
    "grupiranje"
   ]
  },
  {
   "cell_type": "code",
   "execution_count": 123,
   "id": "b2cba86d-7b7c-4af3-8a77-88813f86dbc2",
   "metadata": {},
   "outputs": [
    {
     "data": {
      "text/plain": [
       "((45.82, 15.97), (43.82, 16.97))"
      ]
     },
     "execution_count": 123,
     "metadata": {},
     "output_type": "execute_result"
    }
   ],
   "source": [
    "# pristup grupiranim lokacijama.\n",
    "lokacije = grupiranje[1]\n",
    "lokacije"
   ]
  },
  {
   "cell_type": "code",
   "execution_count": 124,
   "id": "af8556e2-99d1-4212-9b20-4d4777d45a24",
   "metadata": {},
   "outputs": [
    {
     "data": {
      "text/plain": [
       "45.82"
      ]
     },
     "execution_count": 124,
     "metadata": {},
     "output_type": "execute_result"
    }
   ],
   "source": [
    "# pristup zemljopisnoj širini prvog kupca unutar lokacije.\n",
    "zemljopisna_širina = lokacije[0][0]\n",
    "zemljopisna_širina"
   ]
  }
 ],
 "metadata": {
  "kernelspec": {
   "display_name": "Python 3 (ipykernel)",
   "language": "python",
   "name": "python3"
  },
  "language_info": {
   "codemirror_mode": {
    "name": "ipython",
    "version": 3
   },
   "file_extension": ".py",
   "mimetype": "text/x-python",
   "name": "python",
   "nbconvert_exporter": "python",
   "pygments_lexer": "ipython3",
   "version": "3.9.2"
  }
 },
 "nbformat": 4,
 "nbformat_minor": 5
}
