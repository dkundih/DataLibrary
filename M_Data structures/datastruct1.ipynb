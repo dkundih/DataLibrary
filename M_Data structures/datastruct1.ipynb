{
 "cells": [
  {
   "cell_type": "code",
   "execution_count": 1,
   "id": "8ab7ef6c-6530-45b3-b96a-17df5f216933",
   "metadata": {},
   "outputs": [],
   "source": [
    "obj_1 = 23"
   ]
  },
  {
   "cell_type": "code",
   "execution_count": 2,
   "id": "1808f0df-9175-4377-906e-6a6c1b385b2a",
   "metadata": {},
   "outputs": [
    {
     "data": {
      "text/plain": [
       "int"
      ]
     },
     "execution_count": 2,
     "metadata": {},
     "output_type": "execute_result"
    }
   ],
   "source": [
    "type(obj_1)"
   ]
  },
  {
   "cell_type": "code",
   "execution_count": 3,
   "id": "909c66cc-a747-42bd-a5fa-dc1e220b0c53",
   "metadata": {},
   "outputs": [],
   "source": [
    "obj_2 = 23.6"
   ]
  },
  {
   "cell_type": "code",
   "execution_count": 4,
   "id": "e7ee86c5-796e-4c2a-9567-d8810f669dd5",
   "metadata": {},
   "outputs": [
    {
     "data": {
      "text/plain": [
       "float"
      ]
     },
     "execution_count": 4,
     "metadata": {},
     "output_type": "execute_result"
    }
   ],
   "source": [
    "type(obj_2)"
   ]
  },
  {
   "cell_type": "code",
   "execution_count": 5,
   "id": "09ae73f5-ddc0-46c0-93e8-57c053b8549b",
   "metadata": {},
   "outputs": [],
   "source": [
    "obj_3 = 'Promet'"
   ]
  },
  {
   "cell_type": "code",
   "execution_count": 6,
   "id": "cee7eaf3-bc42-4a36-b511-e5f6f6ae92c0",
   "metadata": {},
   "outputs": [
    {
     "data": {
      "text/plain": [
       "str"
      ]
     },
     "execution_count": 6,
     "metadata": {},
     "output_type": "execute_result"
    }
   ],
   "source": [
    "type(obj_3)"
   ]
  },
  {
   "cell_type": "code",
   "execution_count": 7,
   "id": "343218f0-d578-4997-83c8-4a3d60f4a3e7",
   "metadata": {},
   "outputs": [],
   "source": [
    "obj_4 = True"
   ]
  },
  {
   "cell_type": "code",
   "execution_count": 8,
   "id": "8faa9a97-69e7-444e-a009-4bfd67f8fc5d",
   "metadata": {},
   "outputs": [
    {
     "data": {
      "text/plain": [
       "bool"
      ]
     },
     "execution_count": 8,
     "metadata": {},
     "output_type": "execute_result"
    }
   ],
   "source": [
    "type(obj_4)"
   ]
  }
 ],
 "metadata": {
  "kernelspec": {
   "display_name": "Python 3 (ipykernel)",
   "language": "python",
   "name": "python3"
  },
  "language_info": {
   "codemirror_mode": {
    "name": "ipython",
    "version": 3
   },
   "file_extension": ".py",
   "mimetype": "text/x-python",
   "name": "python",
   "nbconvert_exporter": "python",
   "pygments_lexer": "ipython3",
   "version": "3.9.2"
  }
 },
 "nbformat": 4,
 "nbformat_minor": 5
}
