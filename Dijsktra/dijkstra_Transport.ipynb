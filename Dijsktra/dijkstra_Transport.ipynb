{
 "cells": [
  {
   "cell_type": "code",
   "execution_count": 1,
   "metadata": {},
   "outputs": [],
   "source": [
    "import unin"
   ]
  },
  {
   "cell_type": "code",
   "execution_count": 56,
   "metadata": {},
   "outputs": [],
   "source": [
    "tocke = {\n",
    "'a':{'pol' : 1,'j' : 3, 'c' : 2, 'b' : 6},\n",
    "'b':{'pol' : 5,'d' : 6, 'a' : 6},\n",
    "'c':{'a' : 2, 'odr' : float('inf'), 'g' : 4, 'e' : 5, 'f': float('inf')},\n",
    "'d':{'b' : 6, 'e' : 3},\n",
    "'e':{'c' : float('inf'), 'd' : 3, 'f' : 4},\n",
    "'f':{'odr' : 3, 'e' : 4, 'i' : 9, 'c' : 4},\n",
    "'g':{'j' : 3, 'h' : 8, 'c' : 4}, \n",
    "'h':{'i' : 5, 'g' : 8}, \n",
    "'i':{'h' : 5, 'f' : 9}, \n",
    "'j':{'a' : 3, 'g' : 3}, \n",
    "'pol':{'a' : 1, 'b' : 5}, \n",
    "'odr':{'c' : 1, 'f': float('inf')},\n",
    "}"
   ]
  },
  {
   "cell_type": "code",
   "execution_count": 57,
   "metadata": {},
   "outputs": [
    {
     "data": {
      "text/plain": [
       "{'a': {'pol': 1, 'j': 3, 'c': 2, 'b': 6},\n",
       " 'b': {'pol': 5, 'd': 6, 'a': 6},\n",
       " 'c': {'a': 2, 'odr': inf, 'g': 4, 'e': 5, 'f': inf},\n",
       " 'd': {'b': 6, 'e': 3},\n",
       " 'e': {'c': inf, 'd': 3, 'f': 4},\n",
       " 'f': {'odr': 3, 'e': 4, 'i': 9, 'c': 4},\n",
       " 'g': {'j': 3, 'h': 8, 'c': 4},\n",
       " 'h': {'i': 5, 'g': 8},\n",
       " 'i': {'h': 5, 'f': 9},\n",
       " 'j': {'a': 3, 'g': 3},\n",
       " 'pol': {'a': 1, 'b': 5},\n",
       " 'odr': {'c': 1, 'f': inf}}"
      ]
     },
     "execution_count": 57,
     "metadata": {},
     "output_type": "execute_result"
    }
   ],
   "source": [
    "tocke"
   ]
  },
  {
   "cell_type": "code",
   "execution_count": 58,
   "metadata": {},
   "outputs": [
    {
     "name": "stdout",
     "output_type": "stream",
     "text": [
      "Dijkstra has been set up for for finding the path within {'a': {'pol': 1, 'j': 3, 'c': 2, 'b': 6}, 'b': {'pol': 5, 'd': 6, 'a': 6}, 'c': {'a': 2, 'odr': inf, 'g': 4, 'e': 5, 'f': inf}, 'd': {'b': 6, 'e': 3}, 'e': {'c': inf, 'd': 3, 'f': 4}, 'f': {'odr': 3, 'e': 4, 'i': 9, 'c': 4}, 'g': {'j': 3, 'h': 8, 'c': 4}, 'h': {'i': 5, 'g': 8}, 'i': {'h': 5, 'f': 9}, 'j': {'a': 3, 'g': 3}, 'pol': {'a': 1, 'b': 5}, 'odr': {'c': 1, 'f': inf}} from pol => odr.\n",
      "Optimal path: ['pol', 'a', 'c', 'e', 'f', 'odr'] \n",
      "Minimal distance: 15\n"
     ]
    },
    {
     "data": {
      "text/plain": [
       "Dijkstra defining object that stores the configuration data for finding the path within {} from pol => odr."
      ]
     },
     "execution_count": 58,
     "metadata": {},
     "output_type": "execute_result"
    }
   ],
   "source": [
    "unin.Dijkstra(tocke, 'pol', 'odr')"
   ]
  },
  {
   "cell_type": "code",
   "execution_count": 59,
   "metadata": {},
   "outputs": [
    {
     "name": "stdout",
     "output_type": "stream",
     "text": [
      "Help on class Dijkstra in module duality.objects.dijkstra:\n",
      "\n",
      "class Dijkstra(builtins.object)\n",
      " |  Dijkstra(nodes, origin, destination, return_data=True, log_summary=False)\n",
      " |  \n",
      " |  (OBJECT INFO)\n",
      " |  -------------\n",
      " |  \n",
      " |  duality.Dijkstra - main class that contains the data of defined nodes, origin and the desired destination.\n",
      " |  \n",
      " |      * takes 5 additional arguments.\n",
      " |          nodes - dictionary of dictionaries of nodes with their corelating weights.\n",
      " |  \n",
      " |          eg.\n",
      " |          nodes = {\n",
      " |          'a':{'b':8,'c':5},\n",
      " |          'b':{'c':2,'d':4},\n",
      " |          'c':{'b':5,'d':4,'e':3},\n",
      " |          'd':{'e':5},\n",
      " |          'e':{'d':6}\n",
      " |              }\n",
      " |  \n",
      " |          origin - origin node as a starting point.\n",
      " |          destination - destination node of the desired route.\n",
      " |          return_data (default: return_data = True) - initiates execute() function after data setup.\n",
      " |          log_summary (default: log_summary = False) - event log of executed functions. - DEVELOPER MODE ONLY\n",
      " |      * automatically executes the .execute() function.\n",
      " |  \n",
      " |  (OBJECT FUNCTIONS)\n",
      " |  ------------------\n",
      " |  \n",
      " |  eg. duality.Dijkstra.function()\n",
      " |  \n",
      " |      .execute() - executes a Dijkstra algorithm route scan on a defined path.\n",
      " |          *is automatically executed with the Object setup.\n",
      " |  \n",
      " |  (DEVELOPER MODE)\n",
      " |  ----------------\n",
      " |  \n",
      " |  Developer mode functions can only be set up manually by removing the '#DEVELOPER MODE -' in the source code.\n",
      " |  \n",
      " |      .get_logs() - shows the event log of executed functions.\n",
      " |      * takes no additional arguments.\n",
      " |      * Requirements:\n",
      " |          log_summary = True.\n",
      " |          '#DEVELOPER MODE -' removed in the code.\n",
      " |  \n",
      " |  Methods defined here:\n",
      " |  \n",
      " |  __init__(self, nodes, origin, destination, return_data=True, log_summary=False)\n",
      " |      Initialize self.  See help(type(self)) for accurate signature.\n",
      " |  \n",
      " |  __repr__(self)\n",
      " |      Return repr(self).\n",
      " |  \n",
      " |  __str__(self)\n",
      " |      Return str(self).\n",
      " |  \n",
      " |  classLog(func_name)\n",
      " |      #DEVELOPER MODE - creates an event log that tracks the function execution time and duration.\n",
      " |  \n",
      " |  execute(self)\n",
      " |      #DEVELOPER MODE - @classLog('execute() - built in function.')\n",
      " |      #executes a Dijkstra algorithm route scan on a defined path.\n",
      " |  \n",
      " |  get_logs(self)\n",
      " |      #DEVELOPER MODE - @classLog('get_logs()')\n",
      " |      #returns the saved logs of executed functions.\n",
      " |  \n",
      " |  ----------------------------------------------------------------------\n",
      " |  Data descriptors defined here:\n",
      " |  \n",
      " |  __dict__\n",
      " |      dictionary for instance variables (if defined)\n",
      " |  \n",
      " |  __weakref__\n",
      " |      list of weak references to the object (if defined)\n",
      " |  \n",
      " |  ----------------------------------------------------------------------\n",
      " |  Data and other attributes defined here:\n",
      " |  \n",
      " |  __contact__ = 'dakundih@unin.hr | kundihdavid@gmail.com'\n",
      " |  \n",
      " |  __copyright__ = 'Copyright © 2021- David Kundih'\n",
      " |  \n",
      " |  __documentation__ = 'https://github.com/dkundih/duality | https://pypi...\n",
      " |  \n",
      " |  __donate__ = 'https://patreon.com/dkundih | https://buymeacoffee.com/d...\n",
      " |  \n",
      " |  __license__ = 'Copyright © 2021- David Kundih. All rights reser...ndih...\n",
      "\n"
     ]
    }
   ],
   "source": [
    "help(unin.Dijkstra)"
   ]
  }
 ],
 "metadata": {
  "interpreter": {
   "hash": "0121418e29cf86199bef919fa1f5c437be8974b406c12a994b7ab7e7bcf855f7"
  },
  "kernelspec": {
   "display_name": "Python 3.9.2 64-bit",
   "name": "python3"
  },
  "language_info": {
   "codemirror_mode": {
    "name": "ipython",
    "version": 3
   },
   "file_extension": ".py",
   "mimetype": "text/x-python",
   "name": "python",
   "nbconvert_exporter": "python",
   "pygments_lexer": "ipython3",
   "version": "3.9.2"
  },
  "orig_nbformat": 4
 },
 "nbformat": 4,
 "nbformat_minor": 2
}
