{
 "cells": [
  {
   "cell_type": "code",
   "execution_count": 11,
   "id": "1b43cd97-b9df-4ecb-9ae0-a4db0a45c80f",
   "metadata": {},
   "outputs": [],
   "source": [
    "# unos biblioteka.\n",
    "import kundih\n",
    "import numpy as np"
   ]
  },
  {
   "cell_type": "code",
   "execution_count": 12,
   "id": "7bf11ed3-c6a4-4338-95dd-a4eb45b6db40",
   "metadata": {},
   "outputs": [],
   "source": [
    "# definiranje čvorova.\n",
    "čvorovi = {\n",
    "'p':{'c': 6, 'b': 15},\n",
    "'b':{'f': 5, 'p': 15},\n",
    "'c':{'p': 6, 'd': 4, 'i': 9},\n",
    "'d':{'c': 4, 'e': 5},\n",
    "'e':{'d': 5, 'a': 5, 'f': 3},\n",
    "'f':{'e': 3, 'b': 5, 'k': 6},\n",
    "'g':{'h': 4, 'm': 9},\n",
    "'h':{'g': 4, 'n': 8, 'i': 6},\n",
    "'i':{'c': 9, 'l': np.inf, 'h': 6},\n",
    "'j':{'k': 3},\n",
    "'k':{'j': 3, 'f': 6, 's': 9},\n",
    "'l':{'i': 3, 'r': np.inf},\n",
    "'m':{'g': 9, 't': 6},\n",
    "'n':{'h': 8, 'u': 5, 'r': 7},\n",
    "'o':{'r': 6, 'u': np.inf},\n",
    "'a':{'e': 5},\n",
    "'r':{'o': 6, 's': 10, 'l': 6, 'n': 7},\n",
    "'s':{'k': 9, 'r': 10},\n",
    "'t':{'u': 3, 'm': 6},\n",
    "'u':{'o': 5, 'n': 5, 't': 3},\n",
    "}"
   ]
  },
  {
   "cell_type": "code",
   "execution_count": 13,
   "id": "7c2aa8d9-0dfa-44e0-94aa-3384d9a5ab7e",
   "metadata": {},
   "outputs": [],
   "source": [
    "# inicijalizacija objekta.\n",
    "Dijkstra = kundih.Dijkstra(čvor = čvorovi, polazište = 'p', odredište = 'o')"
   ]
  },
  {
   "cell_type": "code",
   "execution_count": 14,
   "id": "f820b90b-20f2-48c9-9d91-a7fbb7db85cc",
   "metadata": {},
   "outputs": [
    {
     "data": {
      "text/html": [
       "<div>\n",
       "<style scoped>\n",
       "    .dataframe tbody tr th:only-of-type {\n",
       "        vertical-align: middle;\n",
       "    }\n",
       "\n",
       "    .dataframe tbody tr th {\n",
       "        vertical-align: top;\n",
       "    }\n",
       "\n",
       "    .dataframe thead th {\n",
       "        text-align: right;\n",
       "    }\n",
       "</style>\n",
       "<table border=\"1\" class=\"dataframe\">\n",
       "  <thead>\n",
       "    <tr style=\"text-align: right;\">\n",
       "      <th></th>\n",
       "      <th>Izračun putanje</th>\n",
       "    </tr>\n",
       "  </thead>\n",
       "  <tbody>\n",
       "    <tr>\n",
       "      <th>Optimalna putanja</th>\n",
       "      <td>[p, c, i, h, n, u, o]</td>\n",
       "    </tr>\n",
       "    <tr>\n",
       "      <th>Minimalna udaljenost</th>\n",
       "      <td>39</td>\n",
       "    </tr>\n",
       "  </tbody>\n",
       "</table>\n",
       "</div>"
      ],
      "text/plain": [
       "                            Izračun putanje\n",
       "Optimalna putanja     [p, c, i, h, n, u, o]\n",
       "Minimalna udaljenost                     39"
      ]
     },
     "execution_count": 14,
     "metadata": {},
     "output_type": "execute_result"
    }
   ],
   "source": [
    "# izračun optimalne putanje (rute).\n",
    "Dijkstra.optimalna_ruta()"
   ]
  }
 ],
 "metadata": {
  "kernelspec": {
   "display_name": "Python 3 (ipykernel)",
   "language": "python",
   "name": "python3"
  },
  "language_info": {
   "codemirror_mode": {
    "name": "ipython",
    "version": 3
   },
   "file_extension": ".py",
   "mimetype": "text/x-python",
   "name": "python",
   "nbconvert_exporter": "python",
   "pygments_lexer": "ipython3",
   "version": "3.9.2"
  }
 },
 "nbformat": 4,
 "nbformat_minor": 5
}
