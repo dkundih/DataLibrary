{
 "cells": [
  {
   "cell_type": "code",
   "execution_count": 29,
   "id": "1097c323-a9e7-453a-bc76-1af12e8663ab",
   "metadata": {},
   "outputs": [],
   "source": [
    "import kundih\n",
    "import pandas as pd"
   ]
  },
  {
   "cell_type": "code",
   "execution_count": 30,
   "id": "86fb4498-9026-4e46-97ce-87392aaccff0",
   "metadata": {},
   "outputs": [],
   "source": [
    "podaci = pd.read_csv(r'C:\\Users\\kundi\\Moji_radovi\\stockanalysis\\import_data\\risk09032020.csv')"
   ]
  },
  {
   "cell_type": "code",
   "execution_count": 31,
   "id": "b7b031a9-1536-437e-80a0-c2d6f41e3dfa",
   "metadata": {},
   "outputs": [],
   "source": [
    "podaci = podaci['last_value']"
   ]
  },
  {
   "cell_type": "code",
   "execution_count": 35,
   "id": "fc926279-d889-4ff5-8d9a-5acf503d1ce3",
   "metadata": {},
   "outputs": [],
   "source": [
    "MC = kundih.MonteCarlo(lista_vrijednosti = podaci, period = 1, broj_simulacija = 1)"
   ]
  },
  {
   "cell_type": "code",
   "execution_count": 36,
   "id": "8df9eeb5-7333-48a3-9ff5-0c8edc105119",
   "metadata": {},
   "outputs": [
    {
     "name": "stdout",
     "output_type": "stream",
     "text": [
      "Monte Carlo simulacija postavljena i spremna za iscrtavanje.\n"
     ]
    },
    {
     "data": {
      "text/html": [
       "<div>\n",
       "<style scoped>\n",
       "    .dataframe tbody tr th:only-of-type {\n",
       "        vertical-align: middle;\n",
       "    }\n",
       "\n",
       "    .dataframe tbody tr th {\n",
       "        vertical-align: top;\n",
       "    }\n",
       "\n",
       "    .dataframe thead th {\n",
       "        text-align: right;\n",
       "    }\n",
       "</style>\n",
       "<table border=\"1\" class=\"dataframe\">\n",
       "  <thead>\n",
       "    <tr style=\"text-align: right;\">\n",
       "      <th></th>\n",
       "      <th>0</th>\n",
       "    </tr>\n",
       "  </thead>\n",
       "  <tbody>\n",
       "    <tr>\n",
       "      <th>0</th>\n",
       "      <td>1642.336419</td>\n",
       "    </tr>\n",
       "    <tr>\n",
       "      <th>1</th>\n",
       "      <td>1643.193282</td>\n",
       "    </tr>\n",
       "  </tbody>\n",
       "</table>\n",
       "</div>"
      ],
      "text/plain": [
       "             0\n",
       "0  1642.336419\n",
       "1  1643.193282"
      ]
     },
     "execution_count": 36,
     "metadata": {},
     "output_type": "execute_result"
    }
   ],
   "source": [
    "MC.izračunaj()"
   ]
  },
  {
   "cell_type": "code",
   "execution_count": 37,
   "id": "c23001cc-b0f7-455e-b85c-2f92688949bd",
   "metadata": {},
   "outputs": [
    {
     "name": "stdout",
     "output_type": "stream",
     "text": [
      "Rizik za ovu opciju je 49.79%.\n"
     ]
    }
   ],
   "source": [
    "MC.izračunaj_rizik(simulacije = 10000)"
   ]
  },
  {
   "cell_type": "code",
   "execution_count": null,
   "id": "fb5c0953-0a54-47b2-8e05-868ef7615247",
   "metadata": {},
   "outputs": [],
   "source": []
  }
 ],
 "metadata": {
  "kernelspec": {
   "display_name": "Python 3 (ipykernel)",
   "language": "python",
   "name": "python3"
  },
  "language_info": {
   "codemirror_mode": {
    "name": "ipython",
    "version": 3
   },
   "file_extension": ".py",
   "mimetype": "text/x-python",
   "name": "python",
   "nbconvert_exporter": "python",
   "pygments_lexer": "ipython3",
   "version": "3.9.2"
  }
 },
 "nbformat": 4,
 "nbformat_minor": 5
}
