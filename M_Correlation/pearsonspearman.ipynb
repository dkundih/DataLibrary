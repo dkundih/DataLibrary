{
 "cells": [
  {
   "cell_type": "code",
   "execution_count": 38,
   "id": "2ae9d7eb-c5d4-4d8c-bcbb-78ec0891345e",
   "metadata": {},
   "outputs": [],
   "source": [
    "# unos biblioteka\n",
    "from scipy.stats import pearsonr as pkk\n",
    "from scipy.stats import spearmanr as skk\n",
    "import pandas as pd"
   ]
  },
  {
   "cell_type": "code",
   "execution_count": 39,
   "id": "194fde16-13a4-45c2-9eea-9fa3f2e76d89",
   "metadata": {},
   "outputs": [],
   "source": [
    "# kreiranje testnog okvira podataka transporta paketa. (Cijena također varira i o vrijednosti pošiljke.)\n",
    "primjerak = pd.DataFrame({\n",
    "    'Masa (kg)' : [8, 3, 2, 6, 1, 1],\n",
    "    'Cijena dostave (kn)' : [113, 85, 70, 98, 70, 60]\n",
    "})"
   ]
  },
  {
   "cell_type": "code",
   "execution_count": 40,
   "id": "0e4b705e-8ffc-4f9b-af9c-10e3fd39b86f",
   "metadata": {},
   "outputs": [
    {
     "data": {
      "text/html": [
       "<div>\n",
       "<style scoped>\n",
       "    .dataframe tbody tr th:only-of-type {\n",
       "        vertical-align: middle;\n",
       "    }\n",
       "\n",
       "    .dataframe tbody tr th {\n",
       "        vertical-align: top;\n",
       "    }\n",
       "\n",
       "    .dataframe thead th {\n",
       "        text-align: right;\n",
       "    }\n",
       "</style>\n",
       "<table border=\"1\" class=\"dataframe\">\n",
       "  <thead>\n",
       "    <tr style=\"text-align: right;\">\n",
       "      <th></th>\n",
       "      <th>Masa (kg)</th>\n",
       "      <th>Cijena dostave (kn)</th>\n",
       "    </tr>\n",
       "  </thead>\n",
       "  <tbody>\n",
       "    <tr>\n",
       "      <th>0</th>\n",
       "      <td>8</td>\n",
       "      <td>113</td>\n",
       "    </tr>\n",
       "    <tr>\n",
       "      <th>1</th>\n",
       "      <td>3</td>\n",
       "      <td>85</td>\n",
       "    </tr>\n",
       "    <tr>\n",
       "      <th>2</th>\n",
       "      <td>2</td>\n",
       "      <td>70</td>\n",
       "    </tr>\n",
       "    <tr>\n",
       "      <th>3</th>\n",
       "      <td>6</td>\n",
       "      <td>98</td>\n",
       "    </tr>\n",
       "    <tr>\n",
       "      <th>4</th>\n",
       "      <td>1</td>\n",
       "      <td>70</td>\n",
       "    </tr>\n",
       "    <tr>\n",
       "      <th>5</th>\n",
       "      <td>1</td>\n",
       "      <td>60</td>\n",
       "    </tr>\n",
       "  </tbody>\n",
       "</table>\n",
       "</div>"
      ],
      "text/plain": [
       "   Masa (kg)  Cijena dostave (kn)\n",
       "0          8                  113\n",
       "1          3                   85\n",
       "2          2                   70\n",
       "3          6                   98\n",
       "4          1                   70\n",
       "5          1                   60"
      ]
     },
     "execution_count": 40,
     "metadata": {},
     "output_type": "execute_result"
    }
   ],
   "source": [
    "# prikaz testnog okvira.\n",
    "primjerak"
   ]
  },
  {
   "cell_type": "code",
   "execution_count": 41,
   "id": "173cb47a-2137-455b-82e4-907ef24cc1ed",
   "metadata": {},
   "outputs": [],
   "source": [
    "# definiranje varijabli za uvrštavanje u izračun.\n",
    "skup_1 = primjerak['Masa (kg)']\n",
    "skup_2 = primjerak['Cijena dostave (kn)']"
   ]
  },
  {
   "cell_type": "code",
   "execution_count": 42,
   "id": "494a57f6-c26a-4273-b048-9f3b4b51033b",
   "metadata": {},
   "outputs": [],
   "source": [
    "# izračun Pearsonovog koeficijenta.\n",
    "pearson = pkk(skup_1, skup_2)"
   ]
  },
  {
   "cell_type": "code",
   "execution_count": 43,
   "id": "2ed2dbec-5420-4128-a83a-34ec4ae68fe8",
   "metadata": {},
   "outputs": [],
   "source": [
    "# izračun Spearmanovog koeficijenta korelacije.\n",
    "spearman = skk(skup_1, skup_2)"
   ]
  },
  {
   "cell_type": "code",
   "execution_count": 44,
   "id": "4564e585-b14d-4bcc-8868-1bcc5080ed62",
   "metadata": {},
   "outputs": [],
   "source": [
    "# pridodavanje vrijednosti varijablama \n",
    "P_koeficijent_korelacije, P_p_vrijednost = pearson\n",
    "S_koeficijent_korelacije, S_p_vrijednost = spearman"
   ]
  },
  {
   "cell_type": "code",
   "execution_count": 45,
   "id": "e687c3da-8f06-40b3-97fc-e5a14e71b4c8",
   "metadata": {},
   "outputs": [
    {
     "data": {
      "text/plain": [
       "'Pearsonov koeficijent korelacije je 0.9765051603362394, uz p-vrijednost od 0.000821526572493657.'"
      ]
     },
     "execution_count": 45,
     "metadata": {},
     "output_type": "execute_result"
    }
   ],
   "source": [
    "# ispis rezultata.\n",
    "f'Pearsonov koeficijent korelacije je {P_koeficijent_korelacije}, uz p-vrijednost od {P_p_vrijednost}.'"
   ]
  },
  {
   "cell_type": "code",
   "execution_count": 46,
   "id": "70e8c2b5-004d-4f15-8305-f92acf51654e",
   "metadata": {},
   "outputs": [
    {
     "data": {
      "text/plain": [
       "'Spearmanov koeficijent korelacije je 0.9558823529411764, uz p-vrijednost od 0.0028766156116425898.'"
      ]
     },
     "execution_count": 46,
     "metadata": {},
     "output_type": "execute_result"
    }
   ],
   "source": [
    "# ispis rezultata.\n",
    "f'Spearmanov koeficijent korelacije je {S_koeficijent_korelacije}, uz p-vrijednost od {S_p_vrijednost}.'"
   ]
  }
 ],
 "metadata": {
  "kernelspec": {
   "display_name": "Python 3 (ipykernel)",
   "language": "python",
   "name": "python3"
  },
  "language_info": {
   "codemirror_mode": {
    "name": "ipython",
    "version": 3
   },
   "file_extension": ".py",
   "mimetype": "text/x-python",
   "name": "python",
   "nbconvert_exporter": "python",
   "pygments_lexer": "ipython3",
   "version": "3.9.2"
  }
 },
 "nbformat": 4,
 "nbformat_minor": 5
}
