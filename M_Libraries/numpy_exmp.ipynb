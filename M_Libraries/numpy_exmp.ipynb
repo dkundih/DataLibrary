{
 "cells": [
  {
   "cell_type": "code",
   "execution_count": 75,
   "id": "c8ac49e1-5503-4120-9003-35e4613c4039",
   "metadata": {},
   "outputs": [],
   "source": [
    "# unos biblioteke.\n",
    "import numpy as np"
   ]
  },
  {
   "cell_type": "code",
   "execution_count": 76,
   "id": "41b6a7aa-a377-4867-b70d-04400157827d",
   "metadata": {},
   "outputs": [],
   "source": [
    "# kreiranje počentih listi.\n",
    "x = [20, 24, 14, 13, 23, 56, 12]\n",
    "y = [-40, -54, -13, 33, 25, -56, 34]\n",
    "z = [10, 46, 26, 13, 45, -52, 14]"
   ]
  },
  {
   "cell_type": "code",
   "execution_count": 77,
   "id": "76886e9f-a0a5-48c4-a53a-304b1caf6ca7",
   "metadata": {},
   "outputs": [],
   "source": [
    "# pretvorba listi u numpy niz.\n",
    "podaci = np.vstack([x, y, z])"
   ]
  },
  {
   "cell_type": "code",
   "execution_count": 78,
   "id": "4f079d1b-0554-4415-97a9-84bf6face9b3",
   "metadata": {},
   "outputs": [
    {
     "data": {
      "text/plain": [
       "array([[ 20,  24,  14,  13,  23,  56,  12],\n",
       "       [-40, -54, -13,  33,  25, -56,  34],\n",
       "       [ 10,  46,  26,  13,  45, -52,  14]])"
      ]
     },
     "execution_count": 78,
     "metadata": {},
     "output_type": "execute_result"
    }
   ],
   "source": [
    "#prikaz numpy niza.\n",
    "podaci"
   ]
  },
  {
   "cell_type": "code",
   "execution_count": 79,
   "id": "8008866b-408b-4964-9cba-c39dd058ddf4",
   "metadata": {},
   "outputs": [],
   "source": [
    "#uklanjanje redaka gdje drugi redak ima negativnu vrijednost. \n",
    "podaci = podaci[:, podaci[1] > 0]"
   ]
  },
  {
   "cell_type": "code",
   "execution_count": 80,
   "id": "6ccda81b-cf9a-4405-8eb5-aeb71a38dca1",
   "metadata": {},
   "outputs": [
    {
     "data": {
      "text/plain": [
       "array([[13, 23, 12],\n",
       "       [33, 25, 34],\n",
       "       [13, 45, 14]])"
      ]
     },
     "execution_count": 80,
     "metadata": {},
     "output_type": "execute_result"
    }
   ],
   "source": [
    "# prikaz podataka nakon uklanjanja redaka gdje drugi redak ima negativnu vrijednost.\n",
    "podaci"
   ]
  },
  {
   "cell_type": "code",
   "execution_count": 81,
   "id": "b4bddb84-4286-4962-abf3-56f9de56151e",
   "metadata": {},
   "outputs": [],
   "source": [
    "podaci = podaci.T"
   ]
  },
  {
   "cell_type": "code",
   "execution_count": 82,
   "id": "a7a3e47f-92f8-4fee-ac17-80f22586037b",
   "metadata": {},
   "outputs": [
    {
     "data": {
      "text/plain": [
       "array([[13, 33, 13],\n",
       "       [23, 25, 45],\n",
       "       [12, 34, 14]])"
      ]
     },
     "execution_count": 82,
     "metadata": {},
     "output_type": "execute_result"
    }
   ],
   "source": [
    "# prikaz podataka nakon transponiranja.\n",
    "podaci"
   ]
  },
  {
   "cell_type": "code",
   "execution_count": 84,
   "id": "c223f954-8548-47f1-8726-186d19673b6a",
   "metadata": {},
   "outputs": [
    {
     "data": {
      "text/plain": [
       "array([[13.,  0.,  0.],\n",
       "       [ 0., 25.,  0.],\n",
       "       [ 0.,  0., 14.]])"
      ]
     },
     "execution_count": 84,
     "metadata": {},
     "output_type": "execute_result"
    }
   ],
   "source": [
    "# množenje s jediničnom matricom.\n",
    "podaci * np.identity(3)"
   ]
  }
 ],
 "metadata": {
  "kernelspec": {
   "display_name": "Python 3 (ipykernel)",
   "language": "python",
   "name": "python3"
  },
  "language_info": {
   "codemirror_mode": {
    "name": "ipython",
    "version": 3
   },
   "file_extension": ".py",
   "mimetype": "text/x-python",
   "name": "python",
   "nbconvert_exporter": "python",
   "pygments_lexer": "ipython3",
   "version": "3.9.2"
  }
 },
 "nbformat": 4,
 "nbformat_minor": 5
}
