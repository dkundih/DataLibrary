{
 "cells": [
  {
   "cell_type": "code",
   "execution_count": 1,
   "id": "535ecf7e-5a7e-42aa-98fb-0f3927adc590",
   "metadata": {},
   "outputs": [],
   "source": [
    "import pandas as pd"
   ]
  },
  {
   "cell_type": "code",
   "execution_count": 3,
   "id": "f15a43bb-6d44-4c0c-b7ee-c53d33591350",
   "metadata": {},
   "outputs": [],
   "source": [
    "stats = {\n",
    "    'Srednja vrijednost' : 13981.88, \n",
    "    'Standardna devijacija' : 1262.15 , \n",
    "    'Maksimalna vrijednost' : 17221.65, \n",
    "    'Minimalna vrijednost' : 10318.40,\n",
    "    }\n",
    "\n",
    "stats = pd.DataFrame(stats, index = ['Statistika'])\n",
    "stats = stats.transpose()"
   ]
  },
  {
   "cell_type": "code",
   "execution_count": 4,
   "id": "55a71b7f-7519-4222-8212-54900e7acc7e",
   "metadata": {},
   "outputs": [
    {
     "data": {
      "text/html": [
       "<div>\n",
       "<style scoped>\n",
       "    .dataframe tbody tr th:only-of-type {\n",
       "        vertical-align: middle;\n",
       "    }\n",
       "\n",
       "    .dataframe tbody tr th {\n",
       "        vertical-align: top;\n",
       "    }\n",
       "\n",
       "    .dataframe thead th {\n",
       "        text-align: right;\n",
       "    }\n",
       "</style>\n",
       "<table border=\"1\" class=\"dataframe\">\n",
       "  <thead>\n",
       "    <tr style=\"text-align: right;\">\n",
       "      <th></th>\n",
       "      <th>Statistika</th>\n",
       "    </tr>\n",
       "  </thead>\n",
       "  <tbody>\n",
       "    <tr>\n",
       "      <th>Srednja vrijednost</th>\n",
       "      <td>13981.88</td>\n",
       "    </tr>\n",
       "    <tr>\n",
       "      <th>Standardna devijacija</th>\n",
       "      <td>1262.15</td>\n",
       "    </tr>\n",
       "    <tr>\n",
       "      <th>Maksimalna vrijednost</th>\n",
       "      <td>17221.65</td>\n",
       "    </tr>\n",
       "    <tr>\n",
       "      <th>Minimalna vrijednost</th>\n",
       "      <td>10318.40</td>\n",
       "    </tr>\n",
       "  </tbody>\n",
       "</table>\n",
       "</div>"
      ],
      "text/plain": [
       "                       Statistika\n",
       "Srednja vrijednost       13981.88\n",
       "Standardna devijacija     1262.15\n",
       "Maksimalna vrijednost    17221.65\n",
       "Minimalna vrijednost     10318.40"
      ]
     },
     "execution_count": 4,
     "metadata": {},
     "output_type": "execute_result"
    }
   ],
   "source": [
    "stats"
   ]
  },
  {
   "cell_type": "code",
   "execution_count": null,
   "id": "2b6819db-65d2-4dbc-933a-a2cd1b8229fb",
   "metadata": {},
   "outputs": [],
   "source": []
  }
 ],
 "metadata": {
  "kernelspec": {
   "display_name": "Python 3 (ipykernel)",
   "language": "python",
   "name": "python3"
  },
  "language_info": {
   "codemirror_mode": {
    "name": "ipython",
    "version": 3
   },
   "file_extension": ".py",
   "mimetype": "text/x-python",
   "name": "python",
   "nbconvert_exporter": "python",
   "pygments_lexer": "ipython3",
   "version": "3.9.2"
  }
 },
 "nbformat": 4,
 "nbformat_minor": 5
}
