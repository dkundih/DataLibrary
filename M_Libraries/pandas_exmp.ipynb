{
 "cells": [
  {
   "cell_type": "code",
   "execution_count": 7,
   "id": "e8fc634a-8a43-4b0e-87dd-60b94d812e9a",
   "metadata": {},
   "outputs": [],
   "source": [
    "# unos biblioteke.\n",
    "import pandas as pd"
   ]
  },
  {
   "cell_type": "code",
   "execution_count": 8,
   "id": "00e94d57-d883-4c31-bed6-7a27aa16f0e4",
   "metadata": {},
   "outputs": [],
   "source": [
    "# set podataka od 4 autoceste. \n",
    "# podaci iz: Ključne brojke (2018), Hrvatska udruga koncesionara za autoceste s naplatom cestarine.\n",
    "autoceste = pd.DataFrame({\n",
    "    'Autocesta' : ['A1', 'A2', 'A3', 'A4'],\n",
    "    'Čvor1' : ['Zagreb', 'Zagreb', 'Bregana', 'Zagreb'],\n",
    "    'Čvor2' : ['Ploče', 'Macelj', 'Lipovac', 'Goričan'],\n",
    "    'Nadimak' : ['Dalmatina', 'Zagorska autocesta', 'Posavska autocesta', 'Varaždinska autocesta'],\n",
    "    'Duljina' : [480.15, 60, 306.4, 96.9],\n",
    "})"
   ]
  },
  {
   "cell_type": "code",
   "execution_count": 9,
   "id": "73c84a41-6e67-42f0-820b-7983e515a091",
   "metadata": {},
   "outputs": [
    {
     "data": {
      "text/html": [
       "<div>\n",
       "<style scoped>\n",
       "    .dataframe tbody tr th:only-of-type {\n",
       "        vertical-align: middle;\n",
       "    }\n",
       "\n",
       "    .dataframe tbody tr th {\n",
       "        vertical-align: top;\n",
       "    }\n",
       "\n",
       "    .dataframe thead th {\n",
       "        text-align: right;\n",
       "    }\n",
       "</style>\n",
       "<table border=\"1\" class=\"dataframe\">\n",
       "  <thead>\n",
       "    <tr style=\"text-align: right;\">\n",
       "      <th></th>\n",
       "      <th>Autocesta</th>\n",
       "      <th>Čvor1</th>\n",
       "      <th>Čvor2</th>\n",
       "      <th>Nadimak</th>\n",
       "      <th>Duljina</th>\n",
       "    </tr>\n",
       "  </thead>\n",
       "  <tbody>\n",
       "    <tr>\n",
       "      <th>0</th>\n",
       "      <td>A1</td>\n",
       "      <td>Zagreb</td>\n",
       "      <td>Ploče</td>\n",
       "      <td>Dalmatina</td>\n",
       "      <td>480.15</td>\n",
       "    </tr>\n",
       "    <tr>\n",
       "      <th>1</th>\n",
       "      <td>A2</td>\n",
       "      <td>Zagreb</td>\n",
       "      <td>Macelj</td>\n",
       "      <td>Zagorska autocesta</td>\n",
       "      <td>60.00</td>\n",
       "    </tr>\n",
       "    <tr>\n",
       "      <th>2</th>\n",
       "      <td>A3</td>\n",
       "      <td>Bregana</td>\n",
       "      <td>Lipovac</td>\n",
       "      <td>Posavska autocesta</td>\n",
       "      <td>306.40</td>\n",
       "    </tr>\n",
       "    <tr>\n",
       "      <th>3</th>\n",
       "      <td>A4</td>\n",
       "      <td>Zagreb</td>\n",
       "      <td>Goričan</td>\n",
       "      <td>Varaždinska autocesta</td>\n",
       "      <td>96.90</td>\n",
       "    </tr>\n",
       "  </tbody>\n",
       "</table>\n",
       "</div>"
      ],
      "text/plain": [
       "  Autocesta    Čvor1    Čvor2                Nadimak  Duljina\n",
       "0        A1   Zagreb    Ploče              Dalmatina   480.15\n",
       "1        A2   Zagreb   Macelj     Zagorska autocesta    60.00\n",
       "2        A3  Bregana  Lipovac     Posavska autocesta   306.40\n",
       "3        A4   Zagreb  Goričan  Varaždinska autocesta    96.90"
      ]
     },
     "execution_count": 9,
     "metadata": {},
     "output_type": "execute_result"
    }
   ],
   "source": [
    "#prikaz autocesta.\n",
    "autoceste"
   ]
  },
  {
   "cell_type": "code",
   "execution_count": 10,
   "id": "e76d0342-69b0-44d6-b0a4-5c49b550d00c",
   "metadata": {},
   "outputs": [
    {
     "data": {
      "text/plain": [
       "Autocesta                       A4\n",
       "Čvor1                       Zagreb\n",
       "Čvor2                      Goričan\n",
       "Nadimak      Varaždinska autocesta\n",
       "Duljina                       96.9\n",
       "Name: 3, dtype: object"
      ]
     },
     "execution_count": 10,
     "metadata": {},
     "output_type": "execute_result"
    }
   ],
   "source": [
    "# dohvaćanje informacija retka 4 (brojanje započinje od 0, indeks je 3).\n",
    "autoceste.iloc[3]"
   ]
  },
  {
   "cell_type": "code",
   "execution_count": 11,
   "id": "37fb4e01-c54c-42a9-8410-5ba76446e695",
   "metadata": {},
   "outputs": [
    {
     "data": {
      "text/html": [
       "<div>\n",
       "<style scoped>\n",
       "    .dataframe tbody tr th:only-of-type {\n",
       "        vertical-align: middle;\n",
       "    }\n",
       "\n",
       "    .dataframe tbody tr th {\n",
       "        vertical-align: top;\n",
       "    }\n",
       "\n",
       "    .dataframe thead th {\n",
       "        text-align: right;\n",
       "    }\n",
       "</style>\n",
       "<table border=\"1\" class=\"dataframe\">\n",
       "  <thead>\n",
       "    <tr style=\"text-align: right;\">\n",
       "      <th></th>\n",
       "      <th>Autocesta</th>\n",
       "      <th>Čvor1</th>\n",
       "      <th>Čvor2</th>\n",
       "      <th>Nadimak</th>\n",
       "      <th>Duljina</th>\n",
       "    </tr>\n",
       "  </thead>\n",
       "  <tbody>\n",
       "    <tr>\n",
       "      <th>0</th>\n",
       "      <td>A1</td>\n",
       "      <td>Zagreb</td>\n",
       "      <td>Ploče</td>\n",
       "      <td>Dalmatina</td>\n",
       "      <td>480.15</td>\n",
       "    </tr>\n",
       "    <tr>\n",
       "      <th>1</th>\n",
       "      <td>A2</td>\n",
       "      <td>Zagreb</td>\n",
       "      <td>Macelj</td>\n",
       "      <td>Zagorska autocesta</td>\n",
       "      <td>60.00</td>\n",
       "    </tr>\n",
       "    <tr>\n",
       "      <th>3</th>\n",
       "      <td>A4</td>\n",
       "      <td>Zagreb</td>\n",
       "      <td>Goričan</td>\n",
       "      <td>Varaždinska autocesta</td>\n",
       "      <td>96.90</td>\n",
       "    </tr>\n",
       "  </tbody>\n",
       "</table>\n",
       "</div>"
      ],
      "text/plain": [
       "  Autocesta   Čvor1    Čvor2                Nadimak  Duljina\n",
       "0        A1  Zagreb    Ploče              Dalmatina   480.15\n",
       "1        A2  Zagreb   Macelj     Zagorska autocesta    60.00\n",
       "3        A4  Zagreb  Goričan  Varaždinska autocesta    96.90"
      ]
     },
     "execution_count": 11,
     "metadata": {},
     "output_type": "execute_result"
    }
   ],
   "source": [
    "# prikaz autocesta kojima je početni čvor u Zagrebu.\n",
    "autoceste[autoceste['Čvor1'] == 'Zagreb']"
   ]
  },
  {
   "cell_type": "code",
   "execution_count": null,
   "id": "8775b432-de5d-4d84-9c52-a0c759ab0cf6",
   "metadata": {},
   "outputs": [],
   "source": []
  }
 ],
 "metadata": {
  "kernelspec": {
   "display_name": "Python 3 (ipykernel)",
   "language": "python",
   "name": "python3"
  },
  "language_info": {
   "codemirror_mode": {
    "name": "ipython",
    "version": 3
   },
   "file_extension": ".py",
   "mimetype": "text/x-python",
   "name": "python",
   "nbconvert_exporter": "python",
   "pygments_lexer": "ipython3",
   "version": "3.9.2"
  }
 },
 "nbformat": 4,
 "nbformat_minor": 5
}
