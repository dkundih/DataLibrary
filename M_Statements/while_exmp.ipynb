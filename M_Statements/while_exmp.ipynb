{
 "cells": [
  {
   "cell_type": "code",
   "execution_count": 43,
   "id": "94a1ac1f-a5f4-4810-977a-5d2fe94b506d",
   "metadata": {},
   "outputs": [],
   "source": [
    "# broj slobodnih mjesta.\n",
    "slobodna_mjesta = 100"
   ]
  },
  {
   "cell_type": "code",
   "execution_count": 44,
   "id": "e2af6ee2-d35c-4337-b130-b0bc94c500ab",
   "metadata": {},
   "outputs": [
    {
     "name": "stdin",
     "output_type": "stream",
     "text": [
      "Broj putnika koji ulaze: 42\n",
      "Broj putnika koji izlaze: 0\n"
     ]
    },
    {
     "name": "stdout",
     "output_type": "stream",
     "text": [
      "\n",
      ">>> Broj slobodnih mjesta u vlaku sada je 58. <<<\n"
     ]
    },
    {
     "name": "stdin",
     "output_type": "stream",
     "text": [
      "Broj putnika koji ulaze: 36\n",
      "Broj putnika koji izlaze: 7\n"
     ]
    },
    {
     "name": "stdout",
     "output_type": "stream",
     "text": [
      "\n",
      ">>> Broj slobodnih mjesta u vlaku sada je 29. <<<\n"
     ]
    },
    {
     "name": "stdin",
     "output_type": "stream",
     "text": [
      "Broj putnika koji ulaze: 29\n",
      "Broj putnika koji izlaze: 0\n"
     ]
    },
    {
     "name": "stdout",
     "output_type": "stream",
     "text": [
      "\n",
      ">>> Broj slobodnih mjesta u vlaku sada je 0. <<<\n",
      "\n",
      ">>> U vlaku više nema mjesta. <<<\n"
     ]
    }
   ],
   "source": [
    "# tijek brojanja slobodnih mjesta u vlaku\n",
    "while slobodna_mjesta > 0:\n",
    "    u_broj = int(input('Broj putnika koji ulaze:'))\n",
    "    i_broj = int(input('Broj putnika koji izlaze:'))\n",
    "    stanje = u_broj - i_broj\n",
    "    slobodna_mjesta -= stanje\n",
    "    if slobodna_mjesta >= 0:\n",
    "        print(f'\\n>>> Broj slobodnih mjesta u vlaku sada je {slobodna_mjesta}. <<<')\n",
    "print('\\n>>> U vlaku više nema mjesta. <<<')"
   ]
  },
  {
   "cell_type": "code",
   "execution_count": 48,
   "id": "574aee2c-eb60-492b-bef4-34b4983d356e",
   "metadata": {},
   "outputs": [],
   "source": [
    "# početna vrijednost brojača i unos biblioteke time.\n",
    "import time\n",
    "brojač = 5"
   ]
  },
  {
   "cell_type": "code",
   "execution_count": 49,
   "id": "b29566f7-067d-4322-9eae-20932229b111",
   "metadata": {},
   "outputs": [
    {
     "name": "stdout",
     "output_type": "stream",
     "text": [
      "Vlak Zagreb GK-Koprivnica kreće za 5 sekundi\n",
      "Vlak Zagreb GK-Koprivnica kreće za 4 sekundi\n",
      "Vlak Zagreb GK-Koprivnica kreće za 3 sekundi\n",
      "Vlak Zagreb GK-Koprivnica kreće za 2 sekundi\n",
      "Vlak Zagreb GK-Koprivnica kreće za 1 sekundi\n",
      "\n",
      ">>> Vlak Zagreb GK-Koprivnica krenuo je s kolodvora. <<<\n"
     ]
    }
   ],
   "source": [
    "# odbrojavanje do polaska vlaka.\n",
    "while brojač > 0:\n",
    "    print(f'Vlak Zagreb GK-Koprivnica kreće za {brojač} sekundi')\n",
    "    time.sleep(1)\n",
    "    brojač -= 1\n",
    "print('\\n>>> Vlak Zagreb GK-Koprivnica krenuo je s kolodvora. <<<')"
   ]
  }
 ],
 "metadata": {
  "kernelspec": {
   "display_name": "Python 3 (ipykernel)",
   "language": "python",
   "name": "python3"
  },
  "language_info": {
   "codemirror_mode": {
    "name": "ipython",
    "version": 3
   },
   "file_extension": ".py",
   "mimetype": "text/x-python",
   "name": "python",
   "nbconvert_exporter": "python",
   "pygments_lexer": "ipython3",
   "version": "3.9.2"
  }
 },
 "nbformat": 4,
 "nbformat_minor": 5
}
