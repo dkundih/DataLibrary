{
 "cells": [
  {
   "cell_type": "code",
   "execution_count": 247,
   "id": "f4eb4af7-ad3a-442e-b2de-299edfb1409e",
   "metadata": {},
   "outputs": [],
   "source": [
    "# prikaz modela vlakova bez informacije o prijevozniku.\n",
    "Vlakovi = {\n",
    "    'Model' : [6112, 7022, 7023]\n",
    "}"
   ]
  },
  {
   "cell_type": "code",
   "execution_count": 248,
   "id": "a52d6413-5cfb-4992-903a-a48a403ceb2e",
   "metadata": {},
   "outputs": [],
   "source": [
    "# kreiranje lambda funkcije.\n",
    "funkcija = lambda tekst, rječnik: [tekst + str(x) for x in rječnik]"
   ]
  },
  {
   "cell_type": "code",
   "execution_count": 249,
   "id": "999624ba-accd-477e-bfe6-d5e90cf5fc38",
   "metadata": {},
   "outputs": [
    {
     "data": {
      "text/plain": [
       "['HŽ 6112', 'HŽ 7022', 'HŽ 7023']"
      ]
     },
     "execution_count": 249,
     "metadata": {},
     "output_type": "execute_result"
    }
   ],
   "source": [
    "# primjena lambda funkcije.\n",
    "funkcija('HŽ ', Vlakovi['Model'])"
   ]
  }
 ],
 "metadata": {
  "kernelspec": {
   "display_name": "Python 3 (ipykernel)",
   "language": "python",
   "name": "python3"
  },
  "language_info": {
   "codemirror_mode": {
    "name": "ipython",
    "version": 3
   },
   "file_extension": ".py",
   "mimetype": "text/x-python",
   "name": "python",
   "nbconvert_exporter": "python",
   "pygments_lexer": "ipython3",
   "version": "3.9.2"
  }
 },
 "nbformat": 4,
 "nbformat_minor": 5
}
