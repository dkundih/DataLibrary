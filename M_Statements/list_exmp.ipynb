{
 "cells": [
  {
   "cell_type": "code",
   "execution_count": 144,
   "id": "fed477f3-c413-486a-b314-e0d36b6e715e",
   "metadata": {},
   "outputs": [],
   "source": [
    "# kreiranje liste.\n",
    "Vlakovi = ['HŽ 6111', 'HŽ 6112', 'HŽ 7122', 'HŽ 7022', 'HŽ 7023', 'HŽ 7121']"
   ]
  },
  {
   "cell_type": "code",
   "execution_count": 145,
   "id": "7ffae242-433d-4e3f-a359-b6dcd7f61f60",
   "metadata": {},
   "outputs": [
    {
     "data": {
      "text/plain": [
       "'HŽ 6111'"
      ]
     },
     "execution_count": 145,
     "metadata": {},
     "output_type": "execute_result"
    }
   ],
   "source": [
    "# primjer lociranja vlaka na prvoj poziciji unutar liste. (u Pythonu se odbrojava od 0)\n",
    "Vlakovi[0]"
   ]
  },
  {
   "cell_type": "code",
   "execution_count": 146,
   "id": "6c8a3791-8467-4c3b-9f2b-4a3af772f3c9",
   "metadata": {},
   "outputs": [],
   "source": [
    "# identifikacija vrste motora vlaka.\n",
    "elektromotorni = [vlak for vlak in Vlakovi if vlak[3] == '6']\n",
    "dizelmotorni = [vlak for vlak in Vlakovi if vlak[3] != '6']"
   ]
  },
  {
   "cell_type": "code",
   "execution_count": 147,
   "id": "fc1944c9-e8df-4bb8-bf96-06e70c9bb592",
   "metadata": {},
   "outputs": [
    {
     "data": {
      "text/plain": [
       "['HŽ 6111', 'HŽ 6112']"
      ]
     },
     "execution_count": 147,
     "metadata": {},
     "output_type": "execute_result"
    }
   ],
   "source": [
    "# prikaz elektromotornih vlakova.\n",
    "elektromotorni"
   ]
  },
  {
   "cell_type": "code",
   "execution_count": 148,
   "id": "60788716-356b-4471-afd7-0d765d8a52d0",
   "metadata": {},
   "outputs": [
    {
     "data": {
      "text/plain": [
       "['HŽ 7122', 'HŽ 7022', 'HŽ 7023', 'HŽ 7121']"
      ]
     },
     "execution_count": 148,
     "metadata": {},
     "output_type": "execute_result"
    }
   ],
   "source": [
    "# prikaz dizel-motornih vlakova.\n",
    "dizelmotorni"
   ]
  },
  {
   "cell_type": "code",
   "execution_count": 149,
   "id": "73fbb40b-46ed-4ca2-bc2c-7240dbb2311b",
   "metadata": {},
   "outputs": [
    {
     "data": {
      "text/plain": [
       "['HŽ 7022', 'HŽ 7023', 'HŽ 7121', 'HŽ 7122']"
      ]
     },
     "execution_count": 149,
     "metadata": {},
     "output_type": "execute_result"
    }
   ],
   "source": [
    "# sortirani prikaz dizel-motornih vlakova.\n",
    "dizelmotorni = sorted(dizelmotorni)\n",
    "dizelmotorni"
   ]
  }
 ],
 "metadata": {
  "kernelspec": {
   "display_name": "Python 3 (ipykernel)",
   "language": "python",
   "name": "python3"
  },
  "language_info": {
   "codemirror_mode": {
    "name": "ipython",
    "version": 3
   },
   "file_extension": ".py",
   "mimetype": "text/x-python",
   "name": "python",
   "nbconvert_exporter": "python",
   "pygments_lexer": "ipython3",
   "version": "3.9.2"
  }
 },
 "nbformat": 4,
 "nbformat_minor": 5
}
