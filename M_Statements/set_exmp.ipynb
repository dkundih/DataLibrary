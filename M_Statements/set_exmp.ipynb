{
 "cells": [
  {
   "cell_type": "code",
   "execution_count": 147,
   "id": "fed477f3-c413-486a-b314-e0d36b6e715e",
   "metadata": {},
   "outputs": [],
   "source": [
    "# kreiranje seta automobila koji prolaze kroz raskrižje.\n",
    "Dolazni_vlakovi = {'Koprivnica', 'Koprivnica', 'Golubovec', 'Zagreb GK', 'Zagreb GK', 'Koprivnica'}\n",
    "Odlazni_vlakovi = {'Zagreb GK', 'Zagreb GK', 'Koprivnica'}"
   ]
  },
  {
   "cell_type": "code",
   "execution_count": 148,
   "id": "7ffae242-433d-4e3f-a359-b6dcd7f61f60",
   "metadata": {},
   "outputs": [
    {
     "data": {
      "text/plain": [
       "{'Golubovec', 'Koprivnica', 'Zagreb GK'}"
      ]
     },
     "execution_count": 148,
     "metadata": {},
     "output_type": "execute_result"
    }
   ],
   "source": [
    "# primjer ispisa jedinstvenih relacija iz kojih vlakovi dolaze.\n",
    "Dolazni_vlakovi"
   ]
  },
  {
   "cell_type": "code",
   "execution_count": 149,
   "id": "6c8a3791-8467-4c3b-9f2b-4a3af772f3c9",
   "metadata": {},
   "outputs": [
    {
     "data": {
      "text/plain": [
       "{'Koprivnica', 'Zagreb GK'}"
      ]
     },
     "execution_count": 149,
     "metadata": {},
     "output_type": "execute_result"
    }
   ],
   "source": [
    "# primjer ispisa jedinstvenih relacija prema kojima vlakovi odlaze.\n",
    "Odlazni_vlakovi"
   ]
  },
  {
   "cell_type": "code",
   "execution_count": 150,
   "id": "73fbb40b-46ed-4ca2-bc2c-7240dbb2311b",
   "metadata": {},
   "outputs": [],
   "source": [
    "# početno stanje skretnice.\n",
    "manevriranje_skretnice = False"
   ]
  },
  {
   "cell_type": "code",
   "execution_count": 151,
   "id": "0f5308a4-ed03-4631-9463-647c633bda2e",
   "metadata": {},
   "outputs": [],
   "source": [
    "# donošenje odluke o pomaku skretnice sukladno prometnim trasama vlakova.\n",
    "if 'Čakovec' not in Dolazni_vlakovi and 'Čakovec' not in Odlazni_vlakovi:\n",
    "    manevriranje_skretnice = False\n",
    "elif 'Čakovec' in Dolazni_vlakovi or 'Čakovec' in Odlazni_vlakovi:\n",
    "    manevriranje_skretnice = True"
   ]
  },
  {
   "cell_type": "code",
   "execution_count": 152,
   "id": "11bbbf52-d670-418c-ac48-4e0b767a79bd",
   "metadata": {},
   "outputs": [
    {
     "data": {
      "text/plain": [
       "False"
      ]
     },
     "execution_count": 152,
     "metadata": {},
     "output_type": "execute_result"
    }
   ],
   "source": [
    "# stanje skretnice nakon analize.\n",
    "manevriranje_skretnice"
   ]
  },
  {
   "cell_type": "code",
   "execution_count": 153,
   "id": "f9c4fa41-5a08-4314-80ae-ffbaf1be167c",
   "metadata": {},
   "outputs": [
    {
     "name": "stdout",
     "output_type": "stream",
     "text": [
      "Nije potrebno manevrirati skretnicom prema Čakovcu.\n"
     ]
    }
   ],
   "source": [
    "# ispis odluke o pomaku skretnice prema Čakovcu.\n",
    "if manevriranje_skretnice == True:\n",
    "    print('Potrebno je manevrirati skretnicom prema Čakovcu.')\n",
    "elif manevriranje_skretnice == False:\n",
    "    print('Nije potrebno manevrirati skretnicom prema Čakovcu.')"
   ]
  }
 ],
 "metadata": {
  "kernelspec": {
   "display_name": "Python 3 (ipykernel)",
   "language": "python",
   "name": "python3"
  },
  "language_info": {
   "codemirror_mode": {
    "name": "ipython",
    "version": 3
   },
   "file_extension": ".py",
   "mimetype": "text/x-python",
   "name": "python",
   "nbconvert_exporter": "python",
   "pygments_lexer": "ipython3",
   "version": "3.9.2"
  }
 },
 "nbformat": 4,
 "nbformat_minor": 5
}
