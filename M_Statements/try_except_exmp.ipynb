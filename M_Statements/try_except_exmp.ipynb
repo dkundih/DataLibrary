{
 "cells": [
  {
   "cell_type": "code",
   "execution_count": 50,
   "id": "d3bc2e3c-3600-4f76-bf41-098775f39f2b",
   "metadata": {},
   "outputs": [
    {
     "name": "stdout",
     "output_type": "stream",
     "text": [
      "Funkcija nije izvršena jer ne postoji.\n"
     ]
    }
   ],
   "source": [
    "# hvatanje pogreške.\n",
    "try:\n",
    "    funkcija()\n",
    "except:\n",
    "    # alternative print funkciji su Except i assert naredbe s djelotvornim svojstvima.\n",
    "    print('Funkcija nije izvršena jer ne postoji.')"
   ]
  }
 ],
 "metadata": {
  "kernelspec": {
   "display_name": "Python 3 (ipykernel)",
   "language": "python",
   "name": "python3"
  },
  "language_info": {
   "codemirror_mode": {
    "name": "ipython",
    "version": 3
   },
   "file_extension": ".py",
   "mimetype": "text/x-python",
   "name": "python",
   "nbconvert_exporter": "python",
   "pygments_lexer": "ipython3",
   "version": "3.9.2"
  }
 },
 "nbformat": 4,
 "nbformat_minor": 5
}
