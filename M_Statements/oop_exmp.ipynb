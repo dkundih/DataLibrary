{
 "cells": [
  {
   "cell_type": "code",
   "execution_count": 23,
   "id": "9b79a96a-0843-4f11-83fd-990143b78599",
   "metadata": {},
   "outputs": [],
   "source": [
    "# izrada klase.\n",
    "class Vlak:\n",
    "    \n",
    "    ''' Klasa prema kojoj se kreira instanca objekta. '''\n",
    "    \n",
    "    def __init__(self, proizvođač, oznaka, brzina):\n",
    "        self.proizvođač = proizvođač\n",
    "        self.oznaka = oznaka\n",
    "        self.brzina = brzina\n",
    "        \n",
    "    def prikaži(self):\n",
    "        return f'Vlak proizvođača {self.proizvođač}, oznake {self.oznaka} i brzine {self.brzina}km/h.'\n",
    "    \n",
    "    def uspori(self, količina):\n",
    "        self.brzina -= količina\n",
    "        return self.brzina"
   ]
  },
  {
   "cell_type": "code",
   "execution_count": 24,
   "id": "d0f4beac-b1cd-4e05-9bd3-fac7d8b86be9",
   "metadata": {},
   "outputs": [],
   "source": [
    "# kreiranje instance.\n",
    "HŽ_7022 = Vlak('Gredelj', 7022, 160)"
   ]
  },
  {
   "cell_type": "code",
   "execution_count": 26,
   "id": "1a6276da-e5f7-431f-a434-f59cf37b65ce",
   "metadata": {},
   "outputs": [
    {
     "data": {
      "text/plain": [
       "'Vlak proizvođača Gredelj, oznake 7022 i brzine 160km/h.'"
      ]
     },
     "execution_count": 26,
     "metadata": {},
     "output_type": "execute_result"
    }
   ],
   "source": [
    "# prikaz detalja o vlaku.\n",
    "HŽ_7022.prikaži()"
   ]
  },
  {
   "cell_type": "code",
   "execution_count": 27,
   "id": "4157bd95-7527-44d9-86df-408b9cf9809b",
   "metadata": {},
   "outputs": [
    {
     "data": {
      "text/plain": [
       "160"
      ]
     },
     "execution_count": 27,
     "metadata": {},
     "output_type": "execute_result"
    }
   ],
   "source": [
    "# dohvaćanje brzine.\n",
    "HŽ_7022.brzina"
   ]
  },
  {
   "cell_type": "code",
   "execution_count": 28,
   "id": "9a8f3982-4954-48c0-b94b-6557192e6b8b",
   "metadata": {
    "tags": []
   },
   "outputs": [
    {
     "data": {
      "text/plain": [
       "140"
      ]
     },
     "execution_count": 28,
     "metadata": {},
     "output_type": "execute_result"
    }
   ],
   "source": [
    "# usporavanje vlaka za 20.\n",
    "HŽ_7022.uspori(20)"
   ]
  },
  {
   "cell_type": "code",
   "execution_count": 29,
   "id": "ccff9145-36fb-4e72-9844-9290734e8437",
   "metadata": {},
   "outputs": [
    {
     "data": {
      "text/plain": [
       "'Vlak proizvođača Gredelj, oznake 7022 i brzine 140km/h.'"
      ]
     },
     "execution_count": 29,
     "metadata": {},
     "output_type": "execute_result"
    }
   ],
   "source": [
    "# prikaz detalja o vlaku.\n",
    "HŽ_7022.prikaži()"
   ]
  },
  {
   "cell_type": "code",
   "execution_count": 25,
   "id": "46b5075b-8fad-4065-bb89-28cfaba72f02",
   "metadata": {},
   "outputs": [
    {
     "data": {
      "text/plain": [
       "<__main__.Vlak at 0x193f7c7a280>"
      ]
     },
     "execution_count": 25,
     "metadata": {},
     "output_type": "execute_result"
    }
   ],
   "source": [
    "# potvrda o pripadnosti klasi.\n",
    "HŽ_7022"
   ]
  }
 ],
 "metadata": {
  "kernelspec": {
   "display_name": "Python 3 (ipykernel)",
   "language": "python",
   "name": "python3"
  },
  "language_info": {
   "codemirror_mode": {
    "name": "ipython",
    "version": 3
   },
   "file_extension": ".py",
   "mimetype": "text/x-python",
   "name": "python",
   "nbconvert_exporter": "python",
   "pygments_lexer": "ipython3",
   "version": "3.9.2"
  }
 },
 "nbformat": 4,
 "nbformat_minor": 5
}
