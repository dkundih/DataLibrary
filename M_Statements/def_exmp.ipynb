{
 "cells": [
  {
   "cell_type": "code",
   "execution_count": 16,
   "id": "46bab138-d0f4-45d0-9421-26c104479b8f",
   "metadata": {},
   "outputs": [],
   "source": [
    "# unos biblioteke za praćenje vremena\n",
    "from datetime import datetime"
   ]
  },
  {
   "cell_type": "code",
   "execution_count": 17,
   "id": "aafe7175-3eec-4978-acac-bbfc2fa972bd",
   "metadata": {},
   "outputs": [],
   "source": [
    "# unos linija.\n",
    "dubrava_prečko = ['09/07/2022 17:05:00','09/07/2022 17:29:00', '09/07/2022 17:42:00']\n",
    "borongaj_prečko = ['09/07/2022 17:11:00','09/07/2022 17:40:00', '09/07/2022 17:45:00']"
   ]
  },
  {
   "cell_type": "code",
   "execution_count": 18,
   "id": "15a89c37-8001-4902-bf7a-21a91b14e56d",
   "metadata": {},
   "outputs": [],
   "source": [
    "# formatiranje linija u vremenski oblik.\n",
    "dubrava_prečko = [datetime.strptime(dolazak, '%d/%m/%Y %H:%M:%S') for dolazak in dubrava_prečko]\n",
    "borongaj_prečko = [datetime.strptime(dolazak, '%d/%m/%Y %H:%M:%S') for dolazak in borongaj_prečko]"
   ]
  },
  {
   "cell_type": "code",
   "execution_count": 19,
   "id": "3b7dbdd2-1cd6-4279-88f2-8f66ec67b2c3",
   "metadata": {},
   "outputs": [],
   "source": [
    "# kreiranje funkcije koja predlaže prvi nadolazeći tramvaj prema stanici Prečko.\n",
    "def predloži_liniju_za_prečko(čvor):\n",
    "    vrijeme = datetime.now()\n",
    "    najbrži_dubrava = min([dt for dt in dubrava_prečko if dt > vrijeme])\n",
    "    najbrži_borongaj = min([dt for dt in borongaj_prečko if dt > vrijeme])\n",
    "    prikaz = {\n",
    "        'Borongaj-Prečko' : f'Tramvaj dolazi na stajalište {čvor} iz smjera Borongaj u {najbrži_borongaj}.',\n",
    "        'Dubrava-Prečko' : f'Tramvaj dolazi na stajalište {čvor} iz smjera Dubrava u {najbrži_dubrava}.',\n",
    "    }\n",
    "    odabir = prikaz['Dubrava-Prečko'] if najbrži_dubrava < najbrži_borongaj else prikaz['Borongaj-Prečko']\n",
    "    print('Trenutno vrijeme:', vrijeme, '\\n')\n",
    "    return print(odabir)"
   ]
  },
  {
   "cell_type": "code",
   "execution_count": 20,
   "id": "a24ecd8e-9dfd-4d5b-ab96-c474f32ba3d7",
   "metadata": {},
   "outputs": [
    {
     "name": "stdout",
     "output_type": "stream",
     "text": [
      "Trenutno vrijeme: 2022-07-09 17:17:28.092044 \n",
      "\n",
      "Tramvaj dolazi na stajalište Vjesnik iz smjera Dubrava u 2022-07-09 17:29:00.\n"
     ]
    }
   ],
   "source": [
    "# korištenje funkcije predlaganja prvog nadolazećeg tramvaja prema stanici Prečko.\n",
    "predloži_liniju_za_prečko('Vjesnik')"
   ]
  }
 ],
 "metadata": {
  "kernelspec": {
   "display_name": "Python 3 (ipykernel)",
   "language": "python",
   "name": "python3"
  },
  "language_info": {
   "codemirror_mode": {
    "name": "ipython",
    "version": 3
   },
   "file_extension": ".py",
   "mimetype": "text/x-python",
   "name": "python",
   "nbconvert_exporter": "python",
   "pygments_lexer": "ipython3",
   "version": "3.9.2"
  }
 },
 "nbformat": 4,
 "nbformat_minor": 5
}
