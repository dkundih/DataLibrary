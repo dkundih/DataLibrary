{
 "cells": [
  {
   "cell_type": "code",
   "execution_count": 9,
   "id": "af7cb916-c511-4b23-8701-347805dc3a64",
   "metadata": {},
   "outputs": [],
   "source": [
    "# prikaz vozila i zabilježenih brzina.\n",
    "brzine_vozila = {\n",
    "    'ČK-478-FZ' : 85,\n",
    "    'ČK-288-JK' : 105,\n",
    "    'VŽ-921-TN' : 88,\n",
    "    'ZG-9212-HF' : 94,\n",
    "    'KC-242-TI' : 101,\n",
    "    'ST-202-HI' : 90,\n",
    "}"
   ]
  },
  {
   "cell_type": "code",
   "execution_count": 10,
   "id": "c3507643-a6d2-42a9-b993-ebfae6689d76",
   "metadata": {},
   "outputs": [
    {
     "data": {
      "text/plain": [
       "['ČK-288-JK', 'KC-242-TI']"
      ]
     },
     "execution_count": 10,
     "metadata": {},
     "output_type": "execute_result"
    }
   ],
   "source": [
    "# registracije vozila koja su prekoračili dopuštenu toleranciju prekoračenja brzine.\n",
    "[vozilo for vozilo, brzina in brzine_vozila.items() if brzine_vozila[vozilo] > 99]"
   ]
  }
 ],
 "metadata": {
  "kernelspec": {
   "display_name": "Python 3 (ipykernel)",
   "language": "python",
   "name": "python3"
  },
  "language_info": {
   "codemirror_mode": {
    "name": "ipython",
    "version": 3
   },
   "file_extension": ".py",
   "mimetype": "text/x-python",
   "name": "python",
   "nbconvert_exporter": "python",
   "pygments_lexer": "ipython3",
   "version": "3.9.2"
  }
 },
 "nbformat": 4,
 "nbformat_minor": 5
}
