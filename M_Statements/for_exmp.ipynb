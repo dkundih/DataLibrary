{
 "cells": [
  {
   "cell_type": "code",
   "execution_count": 40,
   "id": "a495f23e-a007-40bf-850d-90d5f6559816",
   "metadata": {},
   "outputs": [],
   "source": [
    "# inicijalni prikaz statusa semafora.\n",
    "semafori = {\n",
    "    'Semafor 1' : 'Upaljen',\n",
    "    'Semafor 2' : 'Upaljen',\n",
    "    'Semafor 3' : 'Upaljen',\n",
    "    'Semafor 4' : 'Upaljen',\n",
    "    'Semafor 5' : 'Upaljen',\n",
    "}"
   ]
  },
  {
   "cell_type": "code",
   "execution_count": 41,
   "id": "d4988162-8def-4a02-a973-b8a3ad04f3d1",
   "metadata": {},
   "outputs": [],
   "source": [
    "# automatska regulacija svih semafora.\n",
    "for semafor, status in semafori.items():\n",
    "    semafori[semafor] = 'Ugašen'"
   ]
  },
  {
   "cell_type": "code",
   "execution_count": 42,
   "id": "78a6e610-46f8-4048-99cc-9a83964721f0",
   "metadata": {},
   "outputs": [
    {
     "data": {
      "text/plain": [
       "{'Semafor 1': 'Ugašen',\n",
       " 'Semafor 2': 'Ugašen',\n",
       " 'Semafor 3': 'Ugašen',\n",
       " 'Semafor 4': 'Ugašen',\n",
       " 'Semafor 5': 'Ugašen'}"
      ]
     },
     "execution_count": 42,
     "metadata": {},
     "output_type": "execute_result"
    }
   ],
   "source": [
    "# status semafora nakon regulacije.\n",
    "semafori"
   ]
  },
  {
   "cell_type": "code",
   "execution_count": 43,
   "id": "82c5a36d-a15d-4dcc-b34f-a3f856e596d0",
   "metadata": {},
   "outputs": [],
   "source": [
    "# popis vozila\n",
    "vozila = ['ČK-478-FZ', 'ČK-288-JK', 'VŽ-921-TN', 'ZG-9212-HF', 'KC-242-TI', 'ST-202-HI']"
   ]
  },
  {
   "cell_type": "code",
   "execution_count": 46,
   "id": "434b0ef9-8589-456f-9851-7569b8c77eef",
   "metadata": {},
   "outputs": [
    {
     "data": {
      "text/plain": [
       "'VŽ'"
      ]
     },
     "execution_count": 46,
     "metadata": {},
     "output_type": "execute_result"
    }
   ],
   "source": [
    "# testiranje dohvaćanja grada s registracije.\n",
    "vozila[2][0:2]"
   ]
  },
  {
   "cell_type": "code",
   "execution_count": 47,
   "id": "3022b407-1cd9-4e28-8d83-c135c7ccc17e",
   "metadata": {},
   "outputs": [
    {
     "name": "stdout",
     "output_type": "stream",
     "text": [
      "Vozilo ČK-478-FZ nije registrirano u Koprivničko-križevačkoj županiji.\n",
      "Vozilo ČK-288-JK nije registrirano u Koprivničko-križevačkoj županiji.\n",
      "Vozilo VŽ-921-TN nije registrirano u Koprivničko-križevačkoj županiji.\n",
      "Vozilo ZG-9212-HF nije registrirano u Koprivničko-križevačkoj županiji.\n",
      "Vozilo ST-202-HI nije registrirano u Koprivničko-križevačkoj županiji.\n"
     ]
    }
   ],
   "source": [
    "# ispis vozila koja nisu registrirana u KC-KŽ županiji.\n",
    "for vozilo in vozila:\n",
    "    if vozilo[0:2] != 'KC' and vozilo[0:2] != 'KŽ':\n",
    "        print(f'Vozilo {vozilo} nije registrirano u Koprivničko-križevačkoj županiji.')"
   ]
  }
 ],
 "metadata": {
  "kernelspec": {
   "display_name": "Python 3 (ipykernel)",
   "language": "python",
   "name": "python3"
  },
  "language_info": {
   "codemirror_mode": {
    "name": "ipython",
    "version": 3
   },
   "file_extension": ".py",
   "mimetype": "text/x-python",
   "name": "python",
   "nbconvert_exporter": "python",
   "pygments_lexer": "ipython3",
   "version": "3.9.2"
  }
 },
 "nbformat": 4,
 "nbformat_minor": 5
}
