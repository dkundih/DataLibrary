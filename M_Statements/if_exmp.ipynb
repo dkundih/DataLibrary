{
 "cells": [
  {
   "cell_type": "code",
   "execution_count": 55,
   "id": "36d31a30-0abf-4d5d-be78-4297edee7b85",
   "metadata": {},
   "outputs": [],
   "source": [
    "# kreiranje podatkovnog tipa.\n",
    "from typing import Union\n",
    "broj = Union[float, int]"
   ]
  },
  {
   "cell_type": "code",
   "execution_count": 56,
   "id": "45431641-3811-419d-ad0e-398cf56c8cad",
   "metadata": {},
   "outputs": [],
   "source": [
    "# definiranje varijable x.\n",
    "x : broj = 5"
   ]
  },
  {
   "cell_type": "code",
   "execution_count": 57,
   "id": "a3ce72c5-47f5-44da-a141-fdb00bb5fbe2",
   "metadata": {},
   "outputs": [
    {
     "name": "stdout",
     "output_type": "stream",
     "text": [
      "Broj 5 je jednak 5!\n"
     ]
    }
   ],
   "source": [
    "# ispitivanje veličine varijable x.\n",
    "if x > 5:\n",
    "    print(f'Broj {x} je veći od 5!')\n",
    "elif x < 5:\n",
    "    print(f'Broj {x} je manji od 5!')\n",
    "elif x == 5:\n",
    "    print(f'Broj {x} je jednak 5!')\n",
    "else:\n",
    "    print('Unos nije prihvatljivog podatkovnog tipa!')"
   ]
  },
  {
   "cell_type": "code",
   "execution_count": 58,
   "id": "93b5088b-d955-4b50-96ea-de6c555c1693",
   "metadata": {},
   "outputs": [],
   "source": [
    "# definiranje prazne liste.\n",
    "vrijednosti : list = []"
   ]
  },
  {
   "cell_type": "code",
   "execution_count": 59,
   "id": "40bc0f19-2a3c-458f-9490-64f9203873c5",
   "metadata": {},
   "outputs": [
    {
     "name": "stdout",
     "output_type": "stream",
     "text": [
      "Lista je prazna!\n"
     ]
    }
   ],
   "source": [
    "# ispitivanje postojanja sadržaja u listi.\n",
    "if not vrijednosti:\n",
    "    print('Lista je prazna!')\n",
    "elif vrijednosti:\n",
    "    print('Lista sadrži vrijednosti!')"
   ]
  }
 ],
 "metadata": {
  "kernelspec": {
   "display_name": "Python 3 (ipykernel)",
   "language": "python",
   "name": "python3"
  },
  "language_info": {
   "codemirror_mode": {
    "name": "ipython",
    "version": 3
   },
   "file_extension": ".py",
   "mimetype": "text/x-python",
   "name": "python",
   "nbconvert_exporter": "python",
   "pygments_lexer": "ipython3",
   "version": "3.9.2"
  }
 },
 "nbformat": 4,
 "nbformat_minor": 5
}
